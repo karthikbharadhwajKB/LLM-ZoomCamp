{
 "cells": [
  {
   "cell_type": "markdown",
   "id": "c1972844",
   "metadata": {},
   "source": [
    "### 0a-Agents: Homework"
   ]
  },
  {
   "cell_type": "markdown",
   "id": "ba93f067",
   "metadata": {},
   "source": [
    "#### Preparation:\n",
    "\n",
    "First, we'll define a function that we will use when building our agents. \n",
    "\n",
    "It will generate fake weather data:"
   ]
  },
  {
   "cell_type": "code",
   "execution_count": 4,
   "id": "4c7ef1bd",
   "metadata": {},
   "outputs": [],
   "source": [
    "# Weather tool \n",
    "\n",
    "import random\n",
    "\n",
    "known_weather_data = {\n",
    "    'berlin': 20.0\n",
    "}\n",
    "\n",
    "def get_weather(city: str) -> float:\n",
    "    city = city.strip().lower()\n",
    "\n",
    "    if city in known_weather_data:\n",
    "        return known_weather_data[city]\n",
    "\n",
    "    return round(random.uniform(-5, 35), 1)"
   ]
  },
  {
   "cell_type": "markdown",
   "id": "39050a37",
   "metadata": {},
   "source": [
    "#### Q1. Define function Description \n",
    "\n",
    "We want to use it as a tool for our agent, So we need to describe it: #"
   ]
  },
  {
   "cell_type": "code",
   "execution_count": null,
   "id": "e12bd7f0",
   "metadata": {},
   "outputs": [],
   "source": [
    "get_weather_tool = {\n",
    "    \"type\": \"function\",\n",
    "    \"name\": \"get_weather\",\n",
    "    \"description\": \"Retrieves the current weather information for a specified city.\",\n",
    "    \"parameters\": {\n",
    "        \"type\": \"object\",\n",
    "        \"properties\": {\n",
    "            \"city\": {\n",
    "                \"type\": \"string\",\n",
    "                \"description\": \"The name of the city for which to retrieve weather information.\"\n",
    "            }\n",
    "        },\n",
    "        \"required\": [\"city\"],\n",
    "        \"additionalProperties\": False\n",
    "    }\n",
    "}"
   ]
  },
  {
   "cell_type": "code",
   "execution_count": 6,
   "id": "164c06c4",
   "metadata": {},
   "outputs": [
    {
     "data": {
      "text/plain": [
       "[{'type': 'function',\n",
       "  'name': 'get_weather',\n",
       "  'description': 'Provides current weather information for given city',\n",
       "  'parameters': {'type': 'object',\n",
       "   'properties': {'city': {'type': 'string',\n",
       "     'description': 'The city name we want weather information from'}},\n",
       "   'required': ['city'],\n",
       "   'additionalProperties': False}}]"
      ]
     },
     "execution_count": 6,
     "metadata": {},
     "output_type": "execute_result"
    }
   ],
   "source": [
    "from chat_assistant import Tools, ChatAssistant, ChatInterface\n",
    "from openai import OpenAI\n",
    "\n",
    "# Tool \n",
    "tools = Tools() \n",
    "\n",
    "tools.add_tool(get_weather, get_weather_tool)\n",
    "\n",
    "tools.get_tools()"
   ]
  },
  {
   "cell_type": "code",
   "execution_count": 9,
   "id": "3230329a",
   "metadata": {},
   "outputs": [],
   "source": [
    "# Prompt Template\n",
    "developer_prompt = \"\"\"\n",
    "You're a helpful AI Assistant. \n",
    "\n",
    "please provide a concise and precise answer. \n",
    "\n",
    "Always use Tools if you need, but never generate a answer without checking with available tools.\n",
    "\"\"\".strip()\n",
    "\n",
    "\n",
    "# chat interface\n",
    "chat_interface = ChatInterface()\n",
    "\n",
    "# OpenAI client \n",
    "client = OpenAI()\n",
    "\n",
    "\n",
    "chat = ChatAssistant(\n",
    "    tools=tools, \n",
    "    developer_prompt=developer_prompt,\n",
    "    chat_interface=chat_interface,\n",
    "    client=client\n",
    ")"
   ]
  },
  {
   "cell_type": "code",
   "execution_count": 10,
   "id": "62aecccd",
   "metadata": {},
   "outputs": [
    {
     "data": {
      "text/html": [
       "\n",
       "            <details>\n",
       "            <summary>Function call: <tt>get_weather({\"city\":\"Germany\"})</tt></summary>\n",
       "            <div>\n",
       "                <b>Call</b>\n",
       "                <pre>ResponseFunctionToolCall(arguments='{\"city\":\"Germany\"}', call_id='call_r7IOp8exjRicx6sTjnlqjXfZ', name='get_weather', type='function_call', id='fc_6876280a21408197ab8cb66118577ea90376021ec1a47f4c', status='completed')</pre>\n",
       "            </div>\n",
       "            <div>\n",
       "                <b>Output</b>\n",
       "                <pre>-3.4</pre>\n",
       "            </div>\n",
       "            \n",
       "            </details>\n",
       "        "
      ],
      "text/plain": [
       "<IPython.core.display.HTML object>"
      ]
     },
     "metadata": {},
     "output_type": "display_data"
    },
    {
     "data": {
      "text/html": [
       "\n",
       "            <div>\n",
       "                <div><b>Assistant:</b></div>\n",
       "                <div><p>The current temperature in Germany is -3.4°C. If you need more specific weather information for a particular city in Germany, please let me know!</p></div>\n",
       "            </div>\n",
       "        "
      ],
      "text/plain": [
       "<IPython.core.display.HTML object>"
      ]
     },
     "metadata": {},
     "output_type": "display_data"
    },
    {
     "name": "stdout",
     "output_type": "stream",
     "text": [
      "Chat ended.\n"
     ]
    }
   ],
   "source": [
    "chat.run()"
   ]
  },
  {
   "cell_type": "markdown",
   "id": "6af0390f",
   "metadata": {},
   "source": [
    "### Q2. Adding another Tool\n",
    "\n",
    "Let's add another tool - a function that can add weather data to our database:"
   ]
  },
  {
   "cell_type": "code",
   "execution_count": 1,
   "id": "399a2548",
   "metadata": {},
   "outputs": [],
   "source": [
    "def set_weather(city: str, temp: float) -> None:\n",
    "    city = city.strip().lower()\n",
    "    known_weather_data[city] = temp\n",
    "    return 'OK'"
   ]
  },
  {
   "cell_type": "markdown",
   "id": "420c19ec",
   "metadata": {},
   "source": [
    "Tool Description: `set_weather_tool`"
   ]
  },
  {
   "cell_type": "code",
   "execution_count": 10,
   "id": "feb0b950",
   "metadata": {},
   "outputs": [],
   "source": [
    "set_weather_tool = {\n",
    "    \"type\": \"function\",\n",
    "    \"name\": \"set_weather\",\n",
    "    \"description\": \"Adds new city and weather data into the database\",\n",
    "    \"parameters\": {\n",
    "        \"type\" : \"object\", \n",
    "        \"properties\": {\n",
    "            \"city\": {\n",
    "                \"type\": \"string\", \n",
    "                \"descrption\": \"city name to add in the database\"\n",
    "            },\n",
    "            \"temp\": {\n",
    "                \"type\": \"number\",\n",
    "                \"description\": \"asscoaited temperature to the city to add in the database\"\n",
    "            }\n",
    "        }\n",
    "    }\n",
    "}"
   ]
  },
  {
   "cell_type": "code",
   "execution_count": 11,
   "id": "4fc3a754",
   "metadata": {},
   "outputs": [
    {
     "data": {
      "text/plain": [
       "[{'type': 'function',\n",
       "  'name': 'get_weather',\n",
       "  'description': 'Provides current weather information for given city',\n",
       "  'parameters': {'type': 'object',\n",
       "   'properties': {'city': {'type': 'string',\n",
       "     'description': 'The city name we want weather information from'}},\n",
       "   'required': ['city'],\n",
       "   'additionalProperties': False}},\n",
       " {'type': 'function',\n",
       "  'name': 'set_weather',\n",
       "  'description': 'Adds new city and weather data into the database',\n",
       "  'parameters': {'type': 'object',\n",
       "   'properties': {'city': {'type': 'string',\n",
       "     'descrption': 'city name to add in the database'},\n",
       "    'temp': {'type': 'number',\n",
       "     'description': 'asscoaited temperature to the city to add in the database'}}}}]"
      ]
     },
     "execution_count": 11,
     "metadata": {},
     "output_type": "execute_result"
    }
   ],
   "source": [
    "from chat_assistant import ChatAssistant, ChatInterface, Tools\n",
    "import openai\n",
    "\n",
    "# Tools \n",
    "tools = Tools()\n",
    "\n",
    "# Adding new tool \n",
    "tools.add_tool(get_weather, get_weather_tool)\n",
    "tools.add_tool(set_weather, set_weather_tool)\n",
    "\n",
    "# get tools \n",
    "tools.get_tools()"
   ]
  },
  {
   "cell_type": "code",
   "execution_count": 12,
   "id": "095cac17",
   "metadata": {},
   "outputs": [],
   "source": [
    "# Prompt Template\n",
    "developer_prompt = \"\"\"\n",
    "You're a course teaching assistant. \n",
    "You're given a question from a course student and your task is to answer it.\n",
    "\n",
    "Use FAQ if your own knowledge is not sufficient to answer the question.\n",
    "\n",
    "At the end of each response, ask the user a follow up question based on your answer.\n",
    "\"\"\".strip()\n",
    "\n",
    "\n",
    "# openai client \n",
    "client = openai.OpenAI()\n",
    "\n",
    "\n",
    "# chat interface\n",
    "chat_interface = ChatInterface()\n",
    "\n",
    "# chat assistant \n",
    "chat = ChatAssistant(\n",
    "    tools=tools,\n",
    "    developer_prompt=developer_prompt,\n",
    "    chat_interface=chat_interface,\n",
    "    client=client\n",
    ")\n"
   ]
  },
  {
   "cell_type": "code",
   "execution_count": null,
   "id": "4f37e068",
   "metadata": {},
   "outputs": [
    {
     "data": {
      "text/html": [
       "\n",
       "            <details>\n",
       "            <summary>Function call: <tt>get_weather({\"city\":\"Berlin\"})</tt></summary>\n",
       "            <div>\n",
       "                <b>Call</b>\n",
       "                <pre>ResponseFunctionToolCall(arguments='{\"city\":\"Berlin\"}', call_id='call_avDQQ6OnfBOFMK9uBBc24cuZ', name='get_weather', type='function_call', id='fc_68776cb872dc819bb6c792dbd19cabbe06f94885f2f685b1', status='completed')</pre>\n",
       "            </div>\n",
       "            <div>\n",
       "                <b>Output</b>\n",
       "                <pre>20.0</pre>\n",
       "            </div>\n",
       "            \n",
       "            </details>\n",
       "        "
      ],
      "text/plain": [
       "<IPython.core.display.HTML object>"
      ]
     },
     "metadata": {},
     "output_type": "display_data"
    },
    {
     "data": {
      "text/html": [
       "\n",
       "            <div>\n",
       "                <div><b>Assistant:</b></div>\n",
       "                <div><p>The current weather in Berlin is 20°C. </p>\n",
       "<p>Is there a specific activity you're planning to do outside in this weather?</p></div>\n",
       "            </div>\n",
       "        "
      ],
      "text/plain": [
       "<IPython.core.display.HTML object>"
      ]
     },
     "metadata": {},
     "output_type": "display_data"
    },
    {
     "data": {
      "text/html": [
       "\n",
       "            <details>\n",
       "            <summary>Function call: <tt>get_weather({\"city\":\"London\"})</tt></summary>\n",
       "            <div>\n",
       "                <b>Call</b>\n",
       "                <pre>ResponseFunctionToolCall(arguments='{\"city\":\"London\"}', call_id='call_BLkakdsWpZ3E4EuBHaz3HfvU', name='get_weather', type='function_call', id='fc_68776ccc8f5c819b9490bccbf6c9e13306f94885f2f685b1', status='completed')</pre>\n",
       "            </div>\n",
       "            <div>\n",
       "                <b>Output</b>\n",
       "                <pre>29.5</pre>\n",
       "            </div>\n",
       "            \n",
       "            </details>\n",
       "        "
      ],
      "text/plain": [
       "<IPython.core.display.HTML object>"
      ]
     },
     "metadata": {},
     "output_type": "display_data"
    },
    {
     "data": {
      "text/html": [
       "\n",
       "            <div>\n",
       "                <div><b>Assistant:</b></div>\n",
       "                <div><p>The current weather in London is 29.5°C. </p>\n",
       "<p>Are you considering any outdoor plans in this warm weather?</p></div>\n",
       "            </div>\n",
       "        "
      ],
      "text/plain": [
       "<IPython.core.display.HTML object>"
      ]
     },
     "metadata": {},
     "output_type": "display_data"
    },
    {
     "data": {
      "text/html": [
       "\n",
       "            <details>\n",
       "            <summary>Function call: <tt>set_weather({\"city\":\"Vizag\",\"temp\":36})</tt></summary>\n",
       "            <div>\n",
       "                <b>Call</b>\n",
       "                <pre>ResponseFunctionToolCall(arguments='{\"city\":\"Vizag\",\"temp\":36}', call_id='call_RHiB31fpRe1M6F0xiEPqhYHt', name='set_weather', type='function_call', id='fc_68776d1e8658819bb96bf766f41420f506f94885f2f685b1', status='completed')</pre>\n",
       "            </div>\n",
       "            <div>\n",
       "                <b>Output</b>\n",
       "                <pre>\"OK\"</pre>\n",
       "            </div>\n",
       "            \n",
       "            </details>\n",
       "        "
      ],
      "text/plain": [
       "<IPython.core.display.HTML object>"
      ]
     },
     "metadata": {},
     "output_type": "display_data"
    },
    {
     "data": {
      "text/html": [
       "\n",
       "            <div>\n",
       "                <div><b>Assistant:</b></div>\n",
       "                <div><p>The new entry for Vizag with a temperature of 36°C has been successfully added to the weather database. </p>\n",
       "<p>Do you need information on any other cities or weather details?</p></div>\n",
       "            </div>\n",
       "        "
      ],
      "text/plain": [
       "<IPython.core.display.HTML object>"
      ]
     },
     "metadata": {},
     "output_type": "display_data"
    }
   ],
   "source": [
    "chat.run()"
   ]
  },
  {
   "cell_type": "markdown",
   "id": "13f645ad",
   "metadata": {},
   "source": [
    "### MCP: Model-Context Protocol\n",
    "\n",
    "\n",
    "`MCP` Stands for Model-Context Protocol. It allows LLMs communicate with different tools (like Qdrant). It's function calling, but one step further: \n",
    "\n",
    "* A tool can export a list of functions it has. \n",
    "\n",
    "* When we include the tool to our Agent, we just need to include the link to the MCP Server."
   ]
  },
  {
   "cell_type": "markdown",
   "id": "e4a51048",
   "metadata": {},
   "source": [
    "### Q3. Install FastMCP\n",
    "\n",
    "Let's install a library for MCP - `FastMCP`:"
   ]
  },
  {
   "cell_type": "code",
   "execution_count": 3,
   "id": "71a65bb8",
   "metadata": {},
   "outputs": [],
   "source": [
    "# pip install fastmcp"
   ]
  },
  {
   "cell_type": "code",
   "execution_count": 3,
   "id": "e394343f",
   "metadata": {},
   "outputs": [
    {
     "data": {
      "text/plain": [
       "'2.9.2'"
      ]
     },
     "execution_count": 3,
     "metadata": {},
     "output_type": "execute_result"
    }
   ],
   "source": [
    "import fastmcp \n",
    "\n",
    "fastmcp.__version__"
   ]
  },
  {
   "cell_type": "markdown",
   "id": "086f43b3",
   "metadata": {},
   "source": [
    "### Q4. Simple MCP Server \n",
    "\n",
    "A simple MCP server from the documentation looks like that: "
   ]
  },
  {
   "cell_type": "code",
   "execution_count": null,
   "id": "ae1e1c4f",
   "metadata": {},
   "outputs": [],
   "source": [
    "# weather_server.py \n",
    "from fastmcp import FastMCP\n",
    "\n",
    "mcp = FastMCP(\"Demo 🚀\")\n",
    "\n",
    "@mcp.tool\n",
    "def get_weather(city: str) -> float:\n",
    "    \"\"\"\n",
    "    Retrieves the temperature for a specified city.\n",
    "\n",
    "    Parameters:\n",
    "        city (str): The name of the city for which to retrieve weather data.\n",
    "\n",
    "    Returns:\n",
    "        float: The temperature associated with the city.\n",
    "    \"\"\"\n",
    "    city = city.strip().lower()\n",
    "\n",
    "    if city in known_weather_data:\n",
    "        return known_weather_data[city]\n",
    "\n",
    "    return round(random.uniform(-5, 35), 1)\n",
    "\n",
    "@mcp.tool\n",
    "def set_weather(city: str, temp: float) -> None:\n",
    "    \"\"\"\n",
    "    Sets the temperature for a specified city.\n",
    "\n",
    "    Parameters:\n",
    "        city (str): The name of the city for which to set the weather data.\n",
    "        temp (float): The temperature to associate with the city.\n",
    "\n",
    "    Returns:\n",
    "        str: A confirmation string 'OK' indicating successful update.\n",
    "    \"\"\"\n",
    "    city = city.strip().lower()\n",
    "    known_weather_data[city] = temp\n",
    "    return 'OK'\n",
    "\n",
    "if __name__ == \"__main__\":\n",
    "    mcp.run()"
   ]
  },
  {
   "cell_type": "markdown",
   "id": "8d430bcb",
   "metadata": {},
   "source": [
    "```bash\n",
    "[07/16/25 12:00:13] INFO     Starting MCP server 'Demo 🚀' with transport 'stdio'      \n",
    "```"
   ]
  },
  {
   "cell_type": "markdown",
   "id": "7ec08c36",
   "metadata": {},
   "source": [
    "Q. What do you have instead of <TODO>?\n",
    "\n",
    "Answer: 'stdio' - Standard Input/Output"
   ]
  },
  {
   "cell_type": "markdown",
   "id": "dab0a636",
   "metadata": {},
   "source": [
    "### Q5. Protocol\n",
    "\n",
    "There are different ways to communicate with an MCP Server. Ours is currently running using standard input/output, which means that the client write something to `stdin` and read the answer using `stdout`. \n",
    "\n",
    "Our weather server is currently running: \n",
    "\n",
    "This is how we start communicating with it: \n",
    "\n",
    "* First, we send an initialization request -- this way, we register our client with the server: \n",
    "\n",
    "```json\n",
    "{\"jsonrpc\": \"2.0\", \"id\": 1, \"method\": \"initialize\", \"params\": {\"protocolVersion\": \"2024-11-05\", \"capabilities\": {\"roots\": {\"listChanged\": true}, \"sampling\": {}}, \"clientInfo\": {\"name\": \"test-client\", \"version\": \"1.0.0\"}}}\n",
    "```\n",
    "\n",
    "We should get back something like that, which is an acknowledgement of the request: \n",
    "\n",
    "```json\n",
    "{\"jsonrpc\":\"2.0\",\"id\":1,\"result\":{\"protocolVersion\":\"2024-11-05\",\"capabilities\":{\"experimental\":{},\"prompts\":{\"listChanged\":false},\"resources\":{\"subscribe\":false,\"listChanged\":false},\"tools\":{\"listChanged\":true}},\"serverInfo\":{\"name\":\"Demo 🚀\",\"version\":\"1.9.4\"}}}\n",
    "```\n",
    "\n",
    "* Next, we reply back, confirming the initialization: \n",
    " ```json\n",
    " {\"jsonrpc\": \"2.0\", \"method\": \"notifications/initialized\"}\n",
    " ```\n",
    "\n",
    "We don't expect to get anything in response. \n",
    "\n",
    "* Now we can ask for a list of available methods (Tools): \n",
    "\n",
    "```json\n",
    "{\"jsonrpc\": \"2.0\", \"id\": 2, \"method\": \"tools/list\"}\n",
    "```\n",
    "\n",
    "* Let's ask the temperature in berlin: \n",
    "\n",
    "```json\n",
    "{\"jsonrpc\": \"2.0\", \"id\": 3, \"method\": \"tools/call\", \"params\": {\"name\": \"<TODO>\", \"arguments\": {<TODO>}}}\n",
    "```"
   ]
  },
  {
   "cell_type": "markdown",
   "id": "e61e9527",
   "metadata": {},
   "source": [
    "Q. What did you get in response ?\n",
    "\n",
    "\n",
    "Request: \n",
    "```json\n",
    "{\"jsonrpc\": \"2.0\", \"id\": 3, \"method\": \"tools/call\", \"params\": {\"name\": \"get_weather\", \"arguments\": {\"city\": \"berlin\"}}}\n",
    "```\n",
    "\n",
    "Response: \n",
    "\n",
    "```json\n",
    "{\"jsonrpc\":\"2.0\",\"id\":3,\"result\":{\"content\":[{\"type\":\"text\",\"text\":\"20.0\"}],\"isError\":false}}\n",
    "```"
   ]
  },
  {
   "cell_type": "markdown",
   "id": "a4b9c2c2",
   "metadata": {},
   "source": [
    "### Q6. Client \n",
    "\n",
    "We typically don't interact with the server by copy-pasting commands in the terminal. \n",
    "\n",
    "In practice, we use an MCP Client. Let's implement it..\n",
    "\n",
    "`FastMCP` also supports MCP Client: "
   ]
  },
  {
   "cell_type": "code",
   "execution_count": 12,
   "id": "c06bf8eb",
   "metadata": {},
   "outputs": [],
   "source": [
    "import weather_server\n",
    "from fastmcp import Client \n",
    "\n",
    "async def main():\n",
    "    async with Client(weather_server.mcp) as mcp_client:\n",
    "        tools = await mcp_client.list_tools()\n",
    "        print(f\"Available tools: {tools}\")"
   ]
  },
  {
   "cell_type": "code",
   "execution_count": 14,
   "id": "71ce12aa",
   "metadata": {},
   "outputs": [
    {
     "name": "stdout",
     "output_type": "stream",
     "text": [
      "Available tools: [Tool(name='get_weather', description='Retrieves the temperature for a specified city.\\n\\nParameters:\\n    city (str): The name of the city for which to retrieve weather data.\\n\\nReturns:\\n    float: The temperature associated with the city.', inputSchema={'properties': {'city': {'title': 'City', 'type': 'string'}}, 'required': ['city'], 'type': 'object'}, annotations=None), Tool(name='set_weather', description=\"Sets the temperature for a specified city.\\n\\nParameters:\\n    city (str): The name of the city for which to set the weather data.\\n    temp (float): The temperature to associate with the city.\\n\\nReturns:\\n    str: A confirmation string 'OK' indicating successful update.\", inputSchema={'properties': {'city': {'title': 'City', 'type': 'string'}, 'temp': {'title': 'Temp', 'type': 'number'}}, 'required': ['city', 'temp'], 'type': 'object'}, annotations=None)]\n"
     ]
    }
   ],
   "source": [
    "await main()"
   ]
  }
 ],
 "metadata": {
  "kernelspec": {
   "display_name": ".venv",
   "language": "python",
   "name": "python3"
  },
  "language_info": {
   "codemirror_mode": {
    "name": "ipython",
    "version": 3
   },
   "file_extension": ".py",
   "mimetype": "text/x-python",
   "name": "python",
   "nbconvert_exporter": "python",
   "pygments_lexer": "ipython3",
   "version": "3.10.18"
  }
 },
 "nbformat": 4,
 "nbformat_minor": 5
}
