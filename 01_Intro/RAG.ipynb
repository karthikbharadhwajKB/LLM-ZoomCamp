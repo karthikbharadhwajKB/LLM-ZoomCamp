{
 "cells": [
  {
   "cell_type": "markdown",
   "id": "997b56a2",
   "metadata": {},
   "source": [
    "### Importing all required libraries"
   ]
  },
  {
   "cell_type": "code",
   "execution_count": 1,
   "id": "d7028705",
   "metadata": {},
   "outputs": [
    {
     "data": {
      "text/plain": [
       "True"
      ]
     },
     "execution_count": 1,
     "metadata": {},
     "output_type": "execute_result"
    }
   ],
   "source": [
    "import json\n",
    "import minsearch\n",
    "\n",
    "\n",
    "from dotenv import load_dotenv\n",
    "from langchain_ollama import ChatOllama\n",
    "from langchain_mistralai.chat_models import ChatMistralAI\n",
    "\n",
    "load_dotenv()"
   ]
  },
  {
   "cell_type": "markdown",
   "id": "0179b69e",
   "metadata": {},
   "source": [
    "#### 2. loading documents"
   ]
  },
  {
   "cell_type": "code",
   "execution_count": 2,
   "id": "55313869",
   "metadata": {},
   "outputs": [],
   "source": [
    "with open('documents.json', 'rt') as f_in: \n",
    "    docs_raw = json.load(f_in)"
   ]
  },
  {
   "cell_type": "code",
   "execution_count": 3,
   "id": "0b5779a5",
   "metadata": {},
   "outputs": [],
   "source": [
    "documents = [] \n",
    "\n",
    "# looping on all courses\n",
    "for course_dict in docs_raw:\n",
    "    # looping on all documents for each course \n",
    "    for doc in course_dict['documents']:\n",
    "        doc['course'] = course_dict['course']\n",
    "        documents.append(doc)"
   ]
  },
  {
   "cell_type": "code",
   "execution_count": 7,
   "id": "8f4f6e45",
   "metadata": {},
   "outputs": [
    {
     "data": {
      "text/plain": [
       "[{'text': \"The purpose of this document is to capture frequently asked technical questions\\nThe exact day and hour of the course will be 15th Jan 2024 at 17h00. The course will start with the first  “Office Hours'' live.1\\nSubscribe to course public Google Calendar (it works from Desktop only).\\nRegister before the course starts using this link.\\nJoin the course Telegram channel with announcements.\\nDon’t forget to register in DataTalks.Club's Slack and join the channel.\",\n",
       "  'section': 'General course-related questions',\n",
       "  'question': 'Course - When will the course start?',\n",
       "  'course': 'data-engineering-zoomcamp'},\n",
       " {'text': 'GitHub - DataTalksClub data-engineering-zoomcamp#prerequisites',\n",
       "  'section': 'General course-related questions',\n",
       "  'question': 'Course - What are the prerequisites for this course?',\n",
       "  'course': 'data-engineering-zoomcamp'},\n",
       " {'text': \"Yes, even if you don't register, you're still eligible to submit the homeworks.\\nBe aware, however, that there will be deadlines for turning in the final projects. So don't leave everything for the last minute.\",\n",
       "  'section': 'General course-related questions',\n",
       "  'question': 'Course - Can I still join the course after the start date?',\n",
       "  'course': 'data-engineering-zoomcamp'}]"
      ]
     },
     "execution_count": 7,
     "metadata": {},
     "output_type": "execute_result"
    }
   ],
   "source": [
    "documents[:3]"
   ]
  },
  {
   "cell_type": "markdown",
   "id": "878dffc7",
   "metadata": {},
   "source": [
    "#### 3. Indexing the documents"
   ]
  },
  {
   "cell_type": "code",
   "execution_count": 8,
   "id": "70acd20b",
   "metadata": {},
   "outputs": [],
   "source": [
    "index = minsearch.Index(\n",
    "    text_fields = [\"question\", \"text\", \"section\"], # search fields\n",
    "    keyword_fields = [\"course\"] # filtering field\n",
    ")"
   ]
  },
  {
   "cell_type": "code",
   "execution_count": 9,
   "id": "5d6872e4",
   "metadata": {},
   "outputs": [
    {
     "data": {
      "text/plain": [
       "<minsearch.minsearch.Index at 0x1b11946d0f0>"
      ]
     },
     "execution_count": 9,
     "metadata": {},
     "output_type": "execute_result"
    }
   ],
   "source": [
    "# fit the index with documents\n",
    "index.fit(documents)"
   ]
  },
  {
   "cell_type": "code",
   "execution_count": null,
   "id": "413068fb",
   "metadata": {},
   "outputs": [],
   "source": [
    "def search(query):\n",
    "    boost = {'question': 3.0, 'section': 0.5}\n",
    "\n",
    "    results = index.search(\n",
    "        query=query,\n",
    "        boost_dict=boost,\n",
    "        num_results = 3\n",
    "    )\n",
    "    \n",
    "    return results"
   ]
  },
  {
   "cell_type": "code",
   "execution_count": 24,
   "id": "e0d745e2",
   "metadata": {},
   "outputs": [],
   "source": [
    "def build_prompt(query, retrieved_docs):\n",
    "    \n",
    "    prompt_template = \"\"\"\n",
    "    You're a course teaching assistant. Answer the QUESTION based on the CONTEXT from the FAQ database.\n",
    "    Use only the facts from the CONTEXT when answering the QUESTION.\n",
    "    If the CONTEXT doesn't contain the answer, output I don't Know.\n",
    "\n",
    "    QUESTION: {question}\n",
    "\n",
    "    CONTEXT: {context}\n",
    "\n",
    "    ANSWER:\n",
    "    \"\"\".strip()\n",
    "    \n",
    "    context = \"\" \n",
    "\n",
    "    for doc in retrieved_docs:\n",
    "        context = context + f\"section: {doc['section']}\\nquestion: {doc['question']}\\nanswer: {doc['text']}\\n\\n\"\n",
    "        \n",
    "    \n",
    "    prompt = prompt_template.format(question=query, context=context).strip()\n",
    "    \n",
    "    return prompt\n",
    "    "
   ]
  },
  {
   "cell_type": "code",
   "execution_count": 25,
   "id": "5bc9d688",
   "metadata": {},
   "outputs": [],
   "source": [
    "query = \"How do I run Kafka?\"\n",
    "\n",
    "retrieved_docs = search(\"How do I run kafka?\")\n",
    "\n",
    "prompt = build_prompt(query, retrieved_docs)"
   ]
  },
  {
   "cell_type": "code",
   "execution_count": 26,
   "id": "7a9c8ab5",
   "metadata": {},
   "outputs": [
    {
     "name": "stdout",
     "output_type": "stream",
     "text": [
      "You're a course teaching assistant. Answer the QUESTION based on the CONTEXT from the FAQ database.\n",
      "    Use only the facts from the CONTEXT when answering the QUESTION.\n",
      "    If the CONTEXT doesn't contain the answer, output I don't Know.\n",
      "\n",
      "    QUESTION: How do I run Kafka?\n",
      "\n",
      "    CONTEXT: section: Module 6: streaming with kafka\n",
      "question: Java Kafka: How to run producer/consumer/kstreams/etc in terminal\n",
      "answer: In the project directory, run:\n",
      "java -cp build/libs/<jar_name>-1.0-SNAPSHOT.jar:out src/main/java/org/example/JsonProducer.java\n",
      "\n",
      "section: Module 6: streaming with kafka\n",
      "question: Module “kafka” not found when trying to run producer.py\n",
      "answer: Solution from Alexey: create a virtual environment and run requirements.txt and the python files in that environment.\n",
      "To create a virtual env and install packages (run only once)\n",
      "python -m venv env\n",
      "source env/bin/activate\n",
      "pip install -r ../requirements.txt\n",
      "To activate it (you'll need to run it every time you need the virtual env):\n",
      "source env/bin/activate\n",
      "To deactivate it:\n",
      "deactivate\n",
      "This works on MacOS, Linux and Windows - but for Windows the path is slightly different (it's env/Scripts/activate)\n",
      "Also the virtual environment should be created only to run the python file. Docker images should first all be up and running.\n",
      "\n",
      "section: Workshop 1 - dlthub\n",
      "question: How do I install the necessary dependencies to run the code?\n",
      "answer: Answer: To run the provided code, ensure that the 'dlt[duckdb]' package is installed. You can do this by executing the provided installation command: !pip install dlt[duckdb]. If you’re doing it locally, be sure to also have duckdb pip installed (even before the duckdb package is loaded).\n",
      "\n",
      "\n",
      "\n",
      "    ANSWER:\n"
     ]
    }
   ],
   "source": [
    "print(prompt)"
   ]
  },
  {
   "cell_type": "code",
   "execution_count": 37,
   "id": "d9e9219f",
   "metadata": {},
   "outputs": [],
   "source": [
    "def get_llm(model_name):\n",
    "    if model_name == \"mistral\":\n",
    "        llm = ChatMistralAI()\n",
    "    elif model_name == \"llama\":\n",
    "        llm = ChatOllama(model=\"llama3.2-3b\") \n",
    "    else:\n",
    "        print(\"Invalid model name...\")\n",
    "    return llm"
   ]
  },
  {
   "cell_type": "code",
   "execution_count": 38,
   "id": "f80b8673",
   "metadata": {},
   "outputs": [],
   "source": [
    "def get_llm_response(prompt, model_name=\"mistral\"): \n",
    "    llm = get_llm(model_name=model_name)\n",
    "    response = llm.invoke(prompt)\n",
    "    return response.content"
   ]
  },
  {
   "cell_type": "code",
   "execution_count": 39,
   "id": "7d111229",
   "metadata": {},
   "outputs": [],
   "source": [
    "answer = get_llm_response(prompt)"
   ]
  },
  {
   "cell_type": "code",
   "execution_count": 36,
   "id": "5393087c",
   "metadata": {},
   "outputs": [
    {
     "name": "stdout",
     "output_type": "stream",
     "text": [
      "The context does not provide instructions on how to run Kafka in general. However, it does provide specific instructions for running Kafka-related tasks in certain contexts. \n",
      "\n",
      "For running a Python Kafka producer, the context suggests creating a virtual environment and installing the necessary dependencies using a `requirements.txt` file. The command to create and activate the virtual environment is:\n",
      "```bash\n",
      "python -m venv env\n",
      "source env/bin/activate\n",
      "```\n",
      "And to install the dependencies, run:\n",
      "```bash\n",
      "pip install -r ../requirements.txt\n",
      "```\n",
      "However, these instructions do not directly answer the question of how to run Kafka. Therefore, I must output:\n",
      "\n",
      "I don't Know.\n"
     ]
    }
   ],
   "source": [
    "print(answer)"
   ]
  },
  {
   "cell_type": "code",
   "execution_count": 44,
   "id": "c86cfffa",
   "metadata": {},
   "outputs": [],
   "source": [
    "def rag(query):\n",
    "    # 1: Retrieval step\n",
    "    retrieved_docs = search(query)\n",
    "\n",
    "    # 2. Augmentation step\n",
    "    prompt = build_prompt(query, retrieved_docs)\n",
    "    \n",
    "    # 3. Generation Step\n",
    "    answer = get_llm_response(prompt)\n",
    "    \n",
    "    return answer"
   ]
  },
  {
   "cell_type": "code",
   "execution_count": 45,
   "id": "fde2cb40",
   "metadata": {},
   "outputs": [
    {
     "name": "stdout",
     "output_type": "stream",
     "text": [
      "Yes, you can still enroll in the course even if it has already started. You won't be able to submit some of the homeworks, but you can still participate in the course. To earn a certificate, you need to submit 2 out of 3 course projects and review 3 peers' projects by the deadline. Therefore, if you join the course late and complete the required projects, you will still be eligible for a certificate.\n"
     ]
    }
   ],
   "source": [
    "answer = rag(query=\"the course has already started, can I still enroll?\")\n",
    "\n",
    "print(answer)"
   ]
  },
  {
   "cell_type": "code",
   "execution_count": null,
   "id": "5ec4ebda",
   "metadata": {},
   "outputs": [],
   "source": []
  }
 ],
 "metadata": {
  "kernelspec": {
   "display_name": ".venv",
   "language": "python",
   "name": "python3"
  },
  "language_info": {
   "codemirror_mode": {
    "name": "ipython",
    "version": 3
   },
   "file_extension": ".py",
   "mimetype": "text/x-python",
   "name": "python",
   "nbconvert_exporter": "python",
   "pygments_lexer": "ipython3",
   "version": "3.10.17"
  }
 },
 "nbformat": 4,
 "nbformat_minor": 5
}
