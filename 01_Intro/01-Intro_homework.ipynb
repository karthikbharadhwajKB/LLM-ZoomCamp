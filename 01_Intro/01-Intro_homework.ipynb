{
 "cells": [
  {
   "cell_type": "markdown",
   "id": "3ada79d9",
   "metadata": {},
   "source": [
    "#### Home work"
   ]
  },
  {
   "cell_type": "markdown",
   "id": "27649230",
   "metadata": {},
   "source": [
    "Q1. What's the version.build_hash value?"
   ]
  },
  {
   "cell_type": "code",
   "execution_count": 1,
   "id": "ef7299a7",
   "metadata": {},
   "outputs": [
    {
     "name": "stdout",
     "output_type": "stream",
     "text": [
      "{"
     ]
    },
    {
     "name": "stderr",
     "output_type": "stream",
     "text": [
      "  % Total    % Received % Xferd  Average Speed   Time    Time     Time  Current\n",
      "                                 Dload  Upload   Total   Spent    Left  Speed\n",
      "\n",
      "  0     0    0     0    0     0      0      0 --:--:-- --:--:-- --:--:--     0\n",
      "100   539  100   539    0     0  80628      0 --:--:-- --:--:-- --:--:-- 89833\n"
     ]
    },
    {
     "name": "stdout",
     "output_type": "stream",
     "text": [
      "\n",
      "  \"name\" : \"a06cc2832ec8\",\n",
      "  \"cluster_name\" : \"docker-cluster\",\n",
      "  \"cluster_uuid\" : \"734zLd0SR6mB6waoH426GQ\",\n",
      "  \"version\" : {\n",
      "    \"number\" : \"8.4.3\",\n",
      "    \"build_flavor\" : \"default\",\n",
      "    \"build_type\" : \"docker\",\n",
      "    \"build_hash\" : \"42f05b9372a9a4a470db3b52817899b99a76ee73\",\n",
      "    \"build_date\" : \"2022-10-04T07:17:24.662462378Z\",\n",
      "    \"build_snapshot\" : false,\n",
      "    \"lucene_version\" : \"9.3.0\",\n",
      "    \"minimum_wire_compatibility_version\" : \"7.17.0\",\n",
      "    \"minimum_index_compatibility_version\" : \"7.0.0\"\n",
      "  },\n",
      "  \"tagline\" : \"You Know, for Search\"\n",
      "}\n"
     ]
    }
   ],
   "source": [
    "!curl localhost:9200"
   ]
  },
  {
   "cell_type": "markdown",
   "id": "2a8afdba",
   "metadata": {},
   "source": [
    "This is the version.build_hash: 42f05b9372a9a4a470db3b52817899b99a76ee73"
   ]
  },
  {
   "cell_type": "markdown",
   "id": "c6f977de",
   "metadata": {},
   "source": [
    "Getting the data"
   ]
  },
  {
   "cell_type": "code",
   "execution_count": 2,
   "id": "9184574f",
   "metadata": {},
   "outputs": [],
   "source": [
    "import requests \n",
    "\n",
    "docs_url = 'https://github.com/DataTalksClub/llm-zoomcamp/blob/main/01-intro/documents.json?raw=1'\n",
    "docs_response = requests.get(docs_url)\n",
    "documents_raw = docs_response.json()\n",
    "\n",
    "documents = []\n",
    "\n",
    "for course in documents_raw:\n",
    "    course_name = course['course']\n",
    "\n",
    "    for doc in course['documents']:\n",
    "        doc['course'] = course_name\n",
    "        documents.append(doc)"
   ]
  },
  {
   "cell_type": "markdown",
   "id": "78a03381",
   "metadata": {},
   "source": [
    "Q2. Indexing the data "
   ]
  },
  {
   "cell_type": "code",
   "execution_count": 10,
   "id": "ca138ddb",
   "metadata": {},
   "outputs": [
    {
     "name": "stderr",
     "output_type": "stream",
     "text": [
      "c:\\Users\\karth\\Programming\\LLM-ZoomCamp\\.venv\\lib\\site-packages\\tqdm\\auto.py:21: TqdmWarning: IProgress not found. Please update jupyter and ipywidgets. See https://ipywidgets.readthedocs.io/en/stable/user_install.html\n",
      "  from .autonotebook import tqdm as notebook_tqdm\n"
     ]
    }
   ],
   "source": [
    "from elasticsearch import Elasticsearch\n",
    "from tqdm.auto import tqdm"
   ]
  },
  {
   "cell_type": "code",
   "execution_count": 7,
   "id": "b060a4f3",
   "metadata": {},
   "outputs": [],
   "source": [
    "es_client = Elasticsearch('http://localhost:9200')"
   ]
  },
  {
   "cell_type": "code",
   "execution_count": 8,
   "id": "a6a66b2b",
   "metadata": {},
   "outputs": [
    {
     "data": {
      "text/plain": [
       "ObjectApiResponse({'acknowledged': True, 'shards_acknowledged': True, 'index': 'faq-index'})"
      ]
     },
     "execution_count": 8,
     "metadata": {},
     "output_type": "execute_result"
    }
   ],
   "source": [
    "index_settings = {\n",
    "        \"settings\": {\n",
    "            \"number_of_shards\": 1,\n",
    "            \"number_of_replicas\": 0\n",
    "        },\n",
    "        \"mappings\": {\n",
    "            \"properties\": {\n",
    "                    \"text\": {\"type\": \"text\"},\n",
    "                    \"section\": {\"type\": \"text\"},\n",
    "                    \"question\": {\"type\": \"text\"},\n",
    "                    \"course\": {\"type\": \"keyword\"} \n",
    "        }\n",
    "     }\n",
    "}\n",
    "\n",
    "\n",
    "index_name = \"faq-index\"\n",
    "\n",
    "es_client.indices.create(\n",
    "    index=index_name,\n",
    "    body=index_settings\n",
    ")"
   ]
  },
  {
   "cell_type": "code",
   "execution_count": 11,
   "id": "e8350e95",
   "metadata": {},
   "outputs": [
    {
     "name": "stderr",
     "output_type": "stream",
     "text": [
      "100%|██████████| 948/948 [00:47<00:00, 19.81it/s]\n"
     ]
    }
   ],
   "source": [
    "for doc in tqdm(documents):\n",
    "    es_client.index(index=index_name, document=doc)"
   ]
  },
  {
   "cell_type": "markdown",
   "id": "add608ed",
   "metadata": {},
   "source": [
    "Q3. Searching "
   ]
  },
  {
   "cell_type": "code",
   "execution_count": 13,
   "id": "c416a182",
   "metadata": {},
   "outputs": [],
   "source": [
    "query = \"How do execute a command on a Kubernetes pod?\""
   ]
  },
  {
   "cell_type": "code",
   "execution_count": 20,
   "id": "a88e6f8c",
   "metadata": {},
   "outputs": [],
   "source": [
    "search_query = {\n",
    "    \"size\": 5,\n",
    "    \"query\": {\n",
    "        \"bool\": {\n",
    "            \"must\": {\n",
    "                \"multi_match\": {\n",
    "                    \"query\": query,\n",
    "                    \"fields\": [\"question^4\", \"text\"],\n",
    "                    \"type\": \"best_fields\"\n",
    "                }\n",
    "            },\n",
    "        }\n",
    "    }\n",
    "}"
   ]
  },
  {
   "cell_type": "code",
   "execution_count": 21,
   "id": "112b373d",
   "metadata": {},
   "outputs": [],
   "source": [
    "response = es_client.search(index=index_name,\n",
    "                 body=search_query)"
   ]
  },
  {
   "cell_type": "code",
   "execution_count": 22,
   "id": "a600374f",
   "metadata": {},
   "outputs": [
    {
     "data": {
      "text/plain": [
       "ObjectApiResponse({'took': 11, 'timed_out': False, '_shards': {'total': 1, 'successful': 1, 'skipped': 0, 'failed': 0}, 'hits': {'total': {'value': 739, 'relation': 'eq'}, 'max_score': 44.50556, 'hits': [{'_index': 'faq-index', '_id': 'W0sreJcB3ekf7TEoC6_W', '_score': 44.50556, '_source': {'text': 'Launch the container image in interactive mode and overriding the entrypoint, so that it starts a bash command.\\ndocker run -it --entrypoint bash <image>\\nIf the container is already running, execute a command in the specific container:\\ndocker ps (find the container-id)\\ndocker exec -it <container-id> bash\\n(Marcos MJD)', 'section': '5. Deploying Machine Learning Models', 'question': 'How do I debug a docker container?', 'course': 'machine-learning-zoomcamp'}}, {'_index': 'faq-index', '_id': '6ksreJcB3ekf7TEoKK8K', '_score': 35.433445, '_source': {'text': 'Deploy and Access the Kubernetes Dashboard\\nLuke', 'section': '10. Kubernetes and TensorFlow Serving', 'question': 'Kubernetes-dashboard', 'course': 'machine-learning-zoomcamp'}}, {'_index': 'faq-index', '_id': 'e0sreJcB3ekf7TEoEq8h', '_score': 33.70974, '_source': {'text': 'You can copy files from your local machine into a Docker container using the docker cp command. Here\\'s how to do it:\\nIn the Dockerfile, you can provide the folder containing the files that you want to copy over. The basic syntax is as follows:\\nCOPY [\"src/predict.py\", \"models/xgb_model.bin\", \"./\"]\\t\\t\\t\\t\\t\\t\\t\\t\\t\\t\\tGopakumar Gopinathan', 'section': '5. Deploying Machine Learning Models', 'question': 'How do I copy files from a different folder into docker container’s working directory?', 'course': 'machine-learning-zoomcamp'}}, {'_index': 'faq-index', '_id': 'aksreJcB3ekf7TEoDq_E', '_score': 33.2635, '_source': {'text': 'Problem description:\\nI started a web-server in terminal (command window, powershell, etc.). How can I run another python script, which makes a request to this server?\\nSolution description:\\nJust open another terminal (command window, powershell, etc.) and run a python script.\\nAlena Kniazeva', 'section': '5. Deploying Machine Learning Models', 'question': 'How to run a script while a web-server is working?', 'course': 'machine-learning-zoomcamp'}}, {'_index': 'faq-index', '_id': 'PUsreJcB3ekf7TEoBa_6', '_score': 32.589073, '_source': {'text': \"Matplotlib has a cool method to annotate where you could provide an X,Y point and annotate with an arrow and text. For example this will show an arrow pointing to the x,y point optimal threshold.\\nplt.annotate(f'Optimal Threshold: {optimal_threshold:.2f}\\\\nOptimal F1 Score: {optimal_f1_score:.2f}',\\nxy=(optimal_threshold, optimal_f1_score),\\nxytext=(0.3, 0.5),\\ntextcoords='axes fraction',\\narrowprops=dict(facecolor='black', shrink=0.05))\\nQuinn Avila\", 'section': '4. Evaluation Metrics for Classification', 'question': 'How can I annotate a graph?', 'course': 'machine-learning-zoomcamp'}}]}})"
      ]
     },
     "execution_count": 22,
     "metadata": {},
     "output_type": "execute_result"
    }
   ],
   "source": [
    "response "
   ]
  },
  {
   "cell_type": "code",
   "execution_count": null,
   "id": "c4529fdb",
   "metadata": {},
   "outputs": [
    {
     "data": {
      "text/plain": [
       "{'total': {'value': 739, 'relation': 'eq'},\n",
       " 'max_score': 44.50556,\n",
       " 'hits': [{'_index': 'faq-index',\n",
       "   '_id': 'W0sreJcB3ekf7TEoC6_W',\n",
       "   '_score': 44.50556,\n",
       "   '_source': {'text': 'Launch the container image in interactive mode and overriding the entrypoint, so that it starts a bash command.\\ndocker run -it --entrypoint bash <image>\\nIf the container is already running, execute a command in the specific container:\\ndocker ps (find the container-id)\\ndocker exec -it <container-id> bash\\n(Marcos MJD)',\n",
       "    'section': '5. Deploying Machine Learning Models',\n",
       "    'question': 'How do I debug a docker container?',\n",
       "    'course': 'machine-learning-zoomcamp'}},\n",
       "  {'_index': 'faq-index',\n",
       "   '_id': '6ksreJcB3ekf7TEoKK8K',\n",
       "   '_score': 35.433445,\n",
       "   '_source': {'text': 'Deploy and Access the Kubernetes Dashboard\\nLuke',\n",
       "    'section': '10. Kubernetes and TensorFlow Serving',\n",
       "    'question': 'Kubernetes-dashboard',\n",
       "    'course': 'machine-learning-zoomcamp'}},\n",
       "  {'_index': 'faq-index',\n",
       "   '_id': 'e0sreJcB3ekf7TEoEq8h',\n",
       "   '_score': 33.70974,\n",
       "   '_source': {'text': 'You can copy files from your local machine into a Docker container using the docker cp command. Here\\'s how to do it:\\nIn the Dockerfile, you can provide the folder containing the files that you want to copy over. The basic syntax is as follows:\\nCOPY [\"src/predict.py\", \"models/xgb_model.bin\", \"./\"]\\t\\t\\t\\t\\t\\t\\t\\t\\t\\t\\tGopakumar Gopinathan',\n",
       "    'section': '5. Deploying Machine Learning Models',\n",
       "    'question': 'How do I copy files from a different folder into docker container’s working directory?',\n",
       "    'course': 'machine-learning-zoomcamp'}},\n",
       "  {'_index': 'faq-index',\n",
       "   '_id': 'aksreJcB3ekf7TEoDq_E',\n",
       "   '_score': 33.2635,\n",
       "   '_source': {'text': 'Problem description:\\nI started a web-server in terminal (command window, powershell, etc.). How can I run another python script, which makes a request to this server?\\nSolution description:\\nJust open another terminal (command window, powershell, etc.) and run a python script.\\nAlena Kniazeva',\n",
       "    'section': '5. Deploying Machine Learning Models',\n",
       "    'question': 'How to run a script while a web-server is working?',\n",
       "    'course': 'machine-learning-zoomcamp'}},\n",
       "  {'_index': 'faq-index',\n",
       "   '_id': 'PUsreJcB3ekf7TEoBa_6',\n",
       "   '_score': 32.589073,\n",
       "   '_source': {'text': \"Matplotlib has a cool method to annotate where you could provide an X,Y point and annotate with an arrow and text. For example this will show an arrow pointing to the x,y point optimal threshold.\\nplt.annotate(f'Optimal Threshold: {optimal_threshold:.2f}\\\\nOptimal F1 Score: {optimal_f1_score:.2f}',\\nxy=(optimal_threshold, optimal_f1_score),\\nxytext=(0.3, 0.5),\\ntextcoords='axes fraction',\\narrowprops=dict(facecolor='black', shrink=0.05))\\nQuinn Avila\",\n",
       "    'section': '4. Evaluation Metrics for Classification',\n",
       "    'question': 'How can I annotate a graph?',\n",
       "    'course': 'machine-learning-zoomcamp'}}]}"
      ]
     },
     "execution_count": 23,
     "metadata": {},
     "output_type": "execute_result"
    }
   ],
   "source": [
    "   response['hits']"
   ]
  },
  {
   "cell_type": "markdown",
   "id": "1f851d6c",
   "metadata": {},
   "source": [
    "Q4. Filtering"
   ]
  },
  {
   "cell_type": "code",
   "execution_count": 25,
   "id": "4229b3dd",
   "metadata": {},
   "outputs": [],
   "source": [
    "query = \"How do copy a file to a Docker container?\"\n",
    "\n",
    "search_query = {\n",
    "    \"size\": 5,\n",
    "    \"query\": {\n",
    "        \"bool\": {\n",
    "            \"must\": {\n",
    "                \"multi_match\": {\n",
    "                    \"query\": query,\n",
    "                    \"fields\": [\"question^4\", \"text\"],\n",
    "                    \"type\": \"best_fields\"\n",
    "                }\n",
    "            },\n",
    "            \"filter\": {\n",
    "                \"term\": {\n",
    "                    \"course\": \"machine-learning-zoomcamp\"\n",
    "                }\n",
    "            }\n",
    "        }\n",
    "    }\n",
    "}"
   ]
  },
  {
   "cell_type": "code",
   "execution_count": 26,
   "id": "f9c9ca98",
   "metadata": {},
   "outputs": [],
   "source": [
    "response = es_client.search(index=index_name,\n",
    "                 body=search_query)"
   ]
  },
  {
   "cell_type": "code",
   "execution_count": 28,
   "id": "342c0ca8",
   "metadata": {},
   "outputs": [
    {
     "data": {
      "text/plain": [
       "[{'_index': 'faq-index',\n",
       "  '_id': 'W0sreJcB3ekf7TEoC6_W',\n",
       "  '_score': 73.38676,\n",
       "  '_source': {'text': 'Launch the container image in interactive mode and overriding the entrypoint, so that it starts a bash command.\\ndocker run -it --entrypoint bash <image>\\nIf the container is already running, execute a command in the specific container:\\ndocker ps (find the container-id)\\ndocker exec -it <container-id> bash\\n(Marcos MJD)',\n",
       "   'section': '5. Deploying Machine Learning Models',\n",
       "   'question': 'How do I debug a docker container?',\n",
       "   'course': 'machine-learning-zoomcamp'}},\n",
       " {'_index': 'faq-index',\n",
       "  '_id': 'eksreJcB3ekf7TEoEa_k',\n",
       "  '_score': 66.688705,\n",
       "  '_source': {'text': \"You can copy files from your local machine into a Docker container using the docker cp command. Here's how to do it:\\nTo copy a file or directory from your local machine into a running Docker container, you can use the `docker cp command`. The basic syntax is as follows:\\ndocker cp /path/to/local/file_or_directory container_id:/path/in/container\\nHrithik Kumar Advani\",\n",
       "   'section': '5. Deploying Machine Learning Models',\n",
       "   'question': 'How do I copy files from my local machine to docker container?',\n",
       "   'course': 'machine-learning-zoomcamp'}},\n",
       " {'_index': 'faq-index',\n",
       "  '_id': 'e0sreJcB3ekf7TEoEq8h',\n",
       "  '_score': 59.812744,\n",
       "  '_source': {'text': 'You can copy files from your local machine into a Docker container using the docker cp command. Here\\'s how to do it:\\nIn the Dockerfile, you can provide the folder containing the files that you want to copy over. The basic syntax is as follows:\\nCOPY [\"src/predict.py\", \"models/xgb_model.bin\", \"./\"]\\t\\t\\t\\t\\t\\t\\t\\t\\t\\t\\tGopakumar Gopinathan',\n",
       "   'section': '5. Deploying Machine Learning Models',\n",
       "   'question': 'How do I copy files from a different folder into docker container’s working directory?',\n",
       "   'course': 'machine-learning-zoomcamp'}},\n",
       " {'_index': 'faq-index',\n",
       "  '_id': '-ksqeJcB3ekf7TEo-K7Q',\n",
       "  '_score': 53.622295,\n",
       "  '_source': {'text': 'Copy of a dataframe is made with X_copy = X.copy().\\nThis is called creating a deep copy.  Otherwise it will keep changing the original dataframe if used like this: X_copy = X.\\nAny changes to X_copy will reflect back to X. This is not a real copy, instead it is a “view”.\\n(Memoona Tahira)',\n",
       "   'section': '2. Machine Learning for Regression',\n",
       "   'question': 'How to copy a dataframe without changing the original dataframe?',\n",
       "   'course': 'machine-learning-zoomcamp'}},\n",
       " {'_index': 'faq-index',\n",
       "  '_id': 'AEsreJcB3ekf7TEoLLBV',\n",
       "  '_score': 43.647385,\n",
       "  '_source': {'text': 'Answer: The train.py file will be used by your peers to review your midterm project. It is for them to cross-check that your training process works on someone else’s system. It should also be included in the environment in conda or with pipenv.\\nOdimegwu David',\n",
       "   'section': 'Miscellaneous',\n",
       "   'question': 'Why do I need to provide a train.py file when I already have the notebook.ipynb file?',\n",
       "   'course': 'machine-learning-zoomcamp'}}]"
      ]
     },
     "execution_count": 28,
     "metadata": {},
     "output_type": "execute_result"
    }
   ],
   "source": [
    "response['hits']['hits']"
   ]
  },
  {
   "cell_type": "code",
   "execution_count": 34,
   "id": "9392a63a",
   "metadata": {},
   "outputs": [
    {
     "data": {
      "text/plain": [
       "'How do I copy files from a different folder into docker container’s working directory?'"
      ]
     },
     "execution_count": 34,
     "metadata": {},
     "output_type": "execute_result"
    }
   ],
   "source": [
    "response['hits']['hits'][2]['_source']['question']"
   ]
  },
  {
   "cell_type": "markdown",
   "id": "707cdd7f",
   "metadata": {},
   "source": [
    "Q5. Buidling a prompt"
   ]
  },
  {
   "cell_type": "code",
   "execution_count": 46,
   "id": "2c47153d",
   "metadata": {},
   "outputs": [],
   "source": [
    "prompt_template = \"\"\"\n",
    "You're a course teaching assistant. Answer the QUESTION based on the CONTEXT from the FAQ database.\n",
    "Use only the facts from the CONTEXT when answering the QUESTION.\n",
    "\n",
    "QUESTION: {question}\n",
    "\n",
    "CONTEXT:\n",
    "{context}\n",
    "\"\"\".strip()"
   ]
  },
  {
   "cell_type": "code",
   "execution_count": 42,
   "id": "f393981e",
   "metadata": {},
   "outputs": [],
   "source": [
    "retrieved_docs = []\n",
    "\n",
    "response = es_client.search(index=index_name,\n",
    "                 body=search_query)\n",
    "\n",
    "\n",
    "for hit in response['hits']['hits']:\n",
    "        retrieved_docs.append(hit['_source'])"
   ]
  },
  {
   "cell_type": "code",
   "execution_count": 43,
   "id": "43497a58",
   "metadata": {},
   "outputs": [
    {
     "data": {
      "text/plain": [
       "[{'text': 'Launch the container image in interactive mode and overriding the entrypoint, so that it starts a bash command.\\ndocker run -it --entrypoint bash <image>\\nIf the container is already running, execute a command in the specific container:\\ndocker ps (find the container-id)\\ndocker exec -it <container-id> bash\\n(Marcos MJD)',\n",
       "  'section': '5. Deploying Machine Learning Models',\n",
       "  'question': 'How do I debug a docker container?',\n",
       "  'course': 'machine-learning-zoomcamp'},\n",
       " {'text': \"You can copy files from your local machine into a Docker container using the docker cp command. Here's how to do it:\\nTo copy a file or directory from your local machine into a running Docker container, you can use the `docker cp command`. The basic syntax is as follows:\\ndocker cp /path/to/local/file_or_directory container_id:/path/in/container\\nHrithik Kumar Advani\",\n",
       "  'section': '5. Deploying Machine Learning Models',\n",
       "  'question': 'How do I copy files from my local machine to docker container?',\n",
       "  'course': 'machine-learning-zoomcamp'},\n",
       " {'text': 'You can copy files from your local machine into a Docker container using the docker cp command. Here\\'s how to do it:\\nIn the Dockerfile, you can provide the folder containing the files that you want to copy over. The basic syntax is as follows:\\nCOPY [\"src/predict.py\", \"models/xgb_model.bin\", \"./\"]\\t\\t\\t\\t\\t\\t\\t\\t\\t\\t\\tGopakumar Gopinathan',\n",
       "  'section': '5. Deploying Machine Learning Models',\n",
       "  'question': 'How do I copy files from a different folder into docker container’s working directory?',\n",
       "  'course': 'machine-learning-zoomcamp'},\n",
       " {'text': 'Copy of a dataframe is made with X_copy = X.copy().\\nThis is called creating a deep copy.  Otherwise it will keep changing the original dataframe if used like this: X_copy = X.\\nAny changes to X_copy will reflect back to X. This is not a real copy, instead it is a “view”.\\n(Memoona Tahira)',\n",
       "  'section': '2. Machine Learning for Regression',\n",
       "  'question': 'How to copy a dataframe without changing the original dataframe?',\n",
       "  'course': 'machine-learning-zoomcamp'},\n",
       " {'text': 'Answer: The train.py file will be used by your peers to review your midterm project. It is for them to cross-check that your training process works on someone else’s system. It should also be included in the environment in conda or with pipenv.\\nOdimegwu David',\n",
       "  'section': 'Miscellaneous',\n",
       "  'question': 'Why do I need to provide a train.py file when I already have the notebook.ipynb file?',\n",
       "  'course': 'machine-learning-zoomcamp'}]"
      ]
     },
     "execution_count": 43,
     "metadata": {},
     "output_type": "execute_result"
    }
   ],
   "source": [
    "retrieved_docs"
   ]
  },
  {
   "cell_type": "code",
   "execution_count": 55,
   "id": "b911d68b",
   "metadata": {},
   "outputs": [],
   "source": [
    "context = \"\" \n",
    "\n",
    "for doc in retrieved_docs:\n",
    "    context = context + f\"section: {doc['section']}\\nquestion: {doc['question']}\\nanswer: {doc['text']}\\n\\n\""
   ]
  },
  {
   "cell_type": "code",
   "execution_count": 56,
   "id": "497ae5a4",
   "metadata": {},
   "outputs": [
    {
     "data": {
      "text/plain": [
       "'section: 5. Deploying Machine Learning Models\\nquestion: How do I debug a docker container?\\nanswer: Launch the container image in interactive mode and overriding the entrypoint, so that it starts a bash command.\\ndocker run -it --entrypoint bash <image>\\nIf the container is already running, execute a command in the specific container:\\ndocker ps (find the container-id)\\ndocker exec -it <container-id> bash\\n(Marcos MJD)\\n\\nsection: 5. Deploying Machine Learning Models\\nquestion: How do I copy files from my local machine to docker container?\\nanswer: You can copy files from your local machine into a Docker container using the docker cp command. Here\\'s how to do it:\\nTo copy a file or directory from your local machine into a running Docker container, you can use the `docker cp command`. The basic syntax is as follows:\\ndocker cp /path/to/local/file_or_directory container_id:/path/in/container\\nHrithik Kumar Advani\\n\\nsection: 5. Deploying Machine Learning Models\\nquestion: How do I copy files from a different folder into docker container’s working directory?\\nanswer: You can copy files from your local machine into a Docker container using the docker cp command. Here\\'s how to do it:\\nIn the Dockerfile, you can provide the folder containing the files that you want to copy over. The basic syntax is as follows:\\nCOPY [\"src/predict.py\", \"models/xgb_model.bin\", \"./\"]\\t\\t\\t\\t\\t\\t\\t\\t\\t\\t\\tGopakumar Gopinathan\\n\\nsection: 2. Machine Learning for Regression\\nquestion: How to copy a dataframe without changing the original dataframe?\\nanswer: Copy of a dataframe is made with X_copy = X.copy().\\nThis is called creating a deep copy.  Otherwise it will keep changing the original dataframe if used like this: X_copy = X.\\nAny changes to X_copy will reflect back to X. This is not a real copy, instead it is a “view”.\\n(Memoona Tahira)\\n\\nsection: Miscellaneous\\nquestion: Why do I need to provide a train.py file when I already have the notebook.ipynb file?\\nanswer: Answer: The train.py file will be used by your peers to review your midterm project. It is for them to cross-check that your training process works on someone else’s system. It should also be included in the environment in conda or with pipenv.\\nOdimegwu David\\n\\n'"
      ]
     },
     "execution_count": 56,
     "metadata": {},
     "output_type": "execute_result"
    }
   ],
   "source": [
    "context"
   ]
  },
  {
   "cell_type": "code",
   "execution_count": 57,
   "id": "a9e46928",
   "metadata": {},
   "outputs": [],
   "source": [
    "query = \"How do copy a file to a Docker container?\"\n",
    "\n",
    "prompt = prompt_template.format(question=query, context=context).strip()"
   ]
  },
  {
   "cell_type": "code",
   "execution_count": 58,
   "id": "3a08b071",
   "metadata": {},
   "outputs": [
    {
     "data": {
      "text/plain": [
       "'You\\'re a course teaching assistant. Answer the QUESTION based on the CONTEXT from the FAQ database.\\nUse only the facts from the CONTEXT when answering the QUESTION.\\n\\nQUESTION: How do copy a file to a Docker container?\\n\\nCONTEXT:\\nsection: 5. Deploying Machine Learning Models\\nquestion: How do I debug a docker container?\\nanswer: Launch the container image in interactive mode and overriding the entrypoint, so that it starts a bash command.\\ndocker run -it --entrypoint bash <image>\\nIf the container is already running, execute a command in the specific container:\\ndocker ps (find the container-id)\\ndocker exec -it <container-id> bash\\n(Marcos MJD)\\n\\nsection: 5. Deploying Machine Learning Models\\nquestion: How do I copy files from my local machine to docker container?\\nanswer: You can copy files from your local machine into a Docker container using the docker cp command. Here\\'s how to do it:\\nTo copy a file or directory from your local machine into a running Docker container, you can use the `docker cp command`. The basic syntax is as follows:\\ndocker cp /path/to/local/file_or_directory container_id:/path/in/container\\nHrithik Kumar Advani\\n\\nsection: 5. Deploying Machine Learning Models\\nquestion: How do I copy files from a different folder into docker container’s working directory?\\nanswer: You can copy files from your local machine into a Docker container using the docker cp command. Here\\'s how to do it:\\nIn the Dockerfile, you can provide the folder containing the files that you want to copy over. The basic syntax is as follows:\\nCOPY [\"src/predict.py\", \"models/xgb_model.bin\", \"./\"]\\t\\t\\t\\t\\t\\t\\t\\t\\t\\t\\tGopakumar Gopinathan\\n\\nsection: 2. Machine Learning for Regression\\nquestion: How to copy a dataframe without changing the original dataframe?\\nanswer: Copy of a dataframe is made with X_copy = X.copy().\\nThis is called creating a deep copy.  Otherwise it will keep changing the original dataframe if used like this: X_copy = X.\\nAny changes to X_copy will reflect back to X. This is not a real copy, instead it is a “view”.\\n(Memoona Tahira)\\n\\nsection: Miscellaneous\\nquestion: Why do I need to provide a train.py file when I already have the notebook.ipynb file?\\nanswer: Answer: The train.py file will be used by your peers to review your midterm project. It is for them to cross-check that your training process works on someone else’s system. It should also be included in the environment in conda or with pipenv.\\nOdimegwu David'"
      ]
     },
     "execution_count": 58,
     "metadata": {},
     "output_type": "execute_result"
    }
   ],
   "source": [
    "prompt"
   ]
  },
  {
   "cell_type": "code",
   "execution_count": 59,
   "id": "8e50c78b",
   "metadata": {},
   "outputs": [
    {
     "data": {
      "text/plain": [
       "2424"
      ]
     },
     "execution_count": 59,
     "metadata": {},
     "output_type": "execute_result"
    }
   ],
   "source": [
    "len(prompt)"
   ]
  },
  {
   "cell_type": "markdown",
   "id": "bd90781c",
   "metadata": {},
   "source": [
    "Q6. Tokens"
   ]
  },
  {
   "cell_type": "code",
   "execution_count": 60,
   "id": "b4855dd2",
   "metadata": {},
   "outputs": [],
   "source": [
    "import tiktoken"
   ]
  },
  {
   "cell_type": "code",
   "execution_count": 61,
   "id": "1ef08510",
   "metadata": {},
   "outputs": [],
   "source": [
    "encoding = tiktoken.encoding_for_model(\"gpt-4o\")"
   ]
  },
  {
   "cell_type": "code",
   "execution_count": 64,
   "id": "1ed69b0b",
   "metadata": {},
   "outputs": [],
   "source": [
    "encodings = encoding.encode(prompt)"
   ]
  },
  {
   "cell_type": "code",
   "execution_count": 65,
   "id": "583bb402",
   "metadata": {},
   "outputs": [
    {
     "data": {
      "text/plain": [
       "538"
      ]
     },
     "execution_count": 65,
     "metadata": {},
     "output_type": "execute_result"
    }
   ],
   "source": [
    "len(encodings)"
   ]
  },
  {
   "cell_type": "code",
   "execution_count": 66,
   "id": "8881e94c",
   "metadata": {},
   "outputs": [
    {
     "data": {
      "text/plain": [
       "b\"You're\""
      ]
     },
     "execution_count": 66,
     "metadata": {},
     "output_type": "execute_result"
    }
   ],
   "source": [
    "encoding.decode_single_token_bytes(63842)"
   ]
  },
  {
   "cell_type": "markdown",
   "id": "297d60a9",
   "metadata": {},
   "source": [
    "Q7. Generating the answer"
   ]
  },
  {
   "cell_type": "code",
   "execution_count": 73,
   "id": "e3c6c513",
   "metadata": {},
   "outputs": [
    {
     "data": {
      "text/plain": [
       "True"
      ]
     },
     "execution_count": 73,
     "metadata": {},
     "output_type": "execute_result"
    }
   ],
   "source": [
    "from dotenv import load_dotenv\n",
    "\n",
    "from langchain_ollama import ChatOllama\n",
    "from langchain_mistralai.chat_models import ChatMistralAI\n",
    "\n",
    "load_dotenv()"
   ]
  },
  {
   "cell_type": "code",
   "execution_count": 74,
   "id": "1c81e81d",
   "metadata": {},
   "outputs": [],
   "source": [
    "def get_llm(model_name):\n",
    "    if model_name == \"mistral\":\n",
    "        llm = ChatMistralAI()\n",
    "    elif model_name == \"llama\":\n",
    "        llm = ChatOllama(model=\"llama3.2-3b\") \n",
    "    else:\n",
    "        print(\"Invalid model name...\")\n",
    "    return llm"
   ]
  },
  {
   "cell_type": "code",
   "execution_count": 75,
   "id": "bd7d9fe8",
   "metadata": {},
   "outputs": [],
   "source": [
    "def get_llm_response(prompt, model_name=\"mistral\"): \n",
    "    llm = get_llm(model_name=model_name)\n",
    "    response = llm.invoke(prompt)\n",
    "    return response.content"
   ]
  },
  {
   "cell_type": "code",
   "execution_count": 76,
   "id": "6d1c8c70",
   "metadata": {},
   "outputs": [],
   "source": [
    "answer = get_llm_response(prompt)"
   ]
  },
  {
   "cell_type": "code",
   "execution_count": 77,
   "id": "fbdc515e",
   "metadata": {},
   "outputs": [
    {
     "data": {
      "text/plain": [
       "'To copy a file to a Docker container, you can use the `docker cp` command. The basic syntax is as follows:\\n\\n`docker cp /path/to/local/file_or_directory container_id:/path/in/container`\\n\\nThis command allows you to copy a file or directory from your local machine into a running Docker container. The `container_id` refers to the specific container where you want to copy the file, and the `/path/in/container` is the destination path within the container. (Hrithik Kumar Advani)'"
      ]
     },
     "execution_count": 77,
     "metadata": {},
     "output_type": "execute_result"
    }
   ],
   "source": [
    "answer"
   ]
  },
  {
   "cell_type": "code",
   "execution_count": 78,
   "id": "a22c8475",
   "metadata": {},
   "outputs": [
    {
     "data": {
      "text/plain": [
       "477"
      ]
     },
     "execution_count": 78,
     "metadata": {},
     "output_type": "execute_result"
    }
   ],
   "source": [
    "len(answer)"
   ]
  },
  {
   "cell_type": "markdown",
   "id": "b290c1cf",
   "metadata": {},
   "source": [
    "Q8. Calculating the costs"
   ]
  },
  {
   "cell_type": "code",
   "execution_count": 80,
   "id": "334d64c4",
   "metadata": {},
   "outputs": [
    {
     "name": "stdout",
     "output_type": "stream",
     "text": [
      "Input cost: $1.0760\n",
      "Output cost: $3.8160\n",
      "Total cost for 1000 requests: $4.8920\n"
     ]
    }
   ],
   "source": [
    "# GPT-4.1 Pricing (per 1M tokens)\n",
    "input_cost_per_1m = 2.00\n",
    "output_cost_per_1m = 8.00\n",
    "\n",
    "# Token usage per request\n",
    "input_tokens_per_request = 538\n",
    "output_tokens_per_request = 477\n",
    "num_requests = 1000\n",
    "\n",
    "# Total tokens\n",
    "total_input_tokens = input_tokens_per_request * num_requests\n",
    "total_output_tokens = output_tokens_per_request * num_requests\n",
    "\n",
    "# Cost calculation\n",
    "input_cost = (total_input_tokens / 1_000_000) * input_cost_per_1m\n",
    "output_cost = (total_output_tokens / 1_000_000) * output_cost_per_1m\n",
    "total_cost = input_cost + output_cost\n",
    "\n",
    "# Output\n",
    "print(f\"Input cost: ${input_cost:.4f}\")\n",
    "print(f\"Output cost: ${output_cost:.4f}\")\n",
    "print(f\"Total cost for {num_requests} requests: ${total_cost:.4f}\")"
   ]
  }
 ],
 "metadata": {
  "kernelspec": {
   "display_name": ".venv",
   "language": "python",
   "name": "python3"
  },
  "language_info": {
   "codemirror_mode": {
    "name": "ipython",
    "version": 3
   },
   "file_extension": ".py",
   "mimetype": "text/x-python",
   "name": "python",
   "nbconvert_exporter": "python",
   "pygments_lexer": "ipython3",
   "version": "3.10.17"
  }
 },
 "nbformat": 4,
 "nbformat_minor": 5
}
