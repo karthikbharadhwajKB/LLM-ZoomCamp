{
 "cells": [
  {
   "cell_type": "markdown",
   "id": "10b17909",
   "metadata": {},
   "source": [
    "#### 02-Vector Search Homework"
   ]
  },
  {
   "cell_type": "code",
   "execution_count": 1,
   "id": "76d20c2f",
   "metadata": {},
   "outputs": [
    {
     "name": "stderr",
     "output_type": "stream",
     "text": [
      "p:\\Projects\\LLM-ZoomCamp\\.venv\\lib\\site-packages\\tqdm\\auto.py:21: TqdmWarning: IProgress not found. Please update jupyter and ipywidgets. See https://ipywidgets.readthedocs.io/en/stable/user_install.html\n",
      "  from .autonotebook import tqdm as notebook_tqdm\n"
     ]
    }
   ],
   "source": [
    "import json\n",
    "import numpy as np\n",
    "\n",
    "from fastembed import TextEmbedding\n",
    "from qdrant_client import QdrantClient, models"
   ]
  },
  {
   "cell_type": "markdown",
   "id": "043dfb26",
   "metadata": {},
   "source": [
    "#### Q1. Embedding the query\n",
    "\n",
    "Embed the query: 'I just discovered the course. Can I join now?'. Use the 'jinaai/jina-embeddings-v2-small-en' model.\n",
    "\n",
    "You should get a numpy array of size 512.\n",
    "\n",
    "What's the minimal value in this array?"
   ]
  },
  {
   "cell_type": "code",
   "execution_count": 24,
   "id": "a62287af",
   "metadata": {},
   "outputs": [
    {
     "name": "stdout",
     "output_type": "stream",
     "text": [
      "Embedding vector shape: (512,)\n",
      "Minimum value in the embedding vector: -0.11726373885183883\n"
     ]
    }
   ],
   "source": [
    "embedding_model = TextEmbedding('jinaai/jina-embeddings-v2-small-en')\n",
    "\n",
    "\n",
    "text = 'I just discovered the course. Can I join now?'\n",
    "\n",
    "\n",
    "embeddings = list(embedding_model.embed([text]))\n",
    "\n",
    "\n",
    "embedding_vector = embeddings[0]\n",
    "\n",
    "# min value\n",
    "min_value = np.min(embedding_vector)\n",
    "\n",
    "print(f'Embedding vector shape: {embedding_vector.shape}')\n",
    "print(f'Minimum value in the embedding vector: {min_value}')"
   ]
  },
  {
   "cell_type": "markdown",
   "id": "9393e28b",
   "metadata": {},
   "source": [
    "### Cosine Similarity "
   ]
  },
  {
   "cell_type": "code",
   "execution_count": 27,
   "id": "0fc88e59",
   "metadata": {},
   "outputs": [
    {
     "data": {
      "text/plain": [
       "np.float64(1.0)"
      ]
     },
     "execution_count": 27,
     "metadata": {},
     "output_type": "execute_result"
    }
   ],
   "source": [
    "# Check the norm of the embedding vector\n",
    "np.linalg.norm(embedding_vector)"
   ]
  },
  {
   "cell_type": "markdown",
   "id": "d66f07a4",
   "metadata": {},
   "source": [
    "#### Q2. Cosine Similarity with another vector\n"
   ]
  },
  {
   "cell_type": "code",
   "execution_count": 34,
   "id": "535e76f6",
   "metadata": {},
   "outputs": [
    {
     "name": "stdout",
     "output_type": "stream",
     "text": [
      "Cosine similarity between the two documents: 0.9095\n"
     ]
    }
   ],
   "source": [
    "def get_embedding(text: str) -> np.ndarray:\n",
    "    \"\"\"    Get the embedding vector for a given text.\n",
    "\n",
    "    Args:\n",
    "        text (str): The input text to be embedded.  \n",
    "    Returns:\n",
    "        np.ndarray: The embedding vector for the input text.\n",
    "    \"\"\"\n",
    "    embeddings = list(embedding_model.embed([text]))\n",
    "    return embeddings[0]\n",
    "\n",
    "\n",
    "def cosine_similarity(vec1: np.ndarray, vec2: np.ndarray) -> float:\n",
    "    \"\"\"Calculate the cosine similarity between two vectors.\n",
    "    Args:\n",
    "        vec1 (np.ndarray): The first vector.\n",
    "        vec2 (np.ndarray): The second vector.\n",
    "    Returns:\n",
    "        float: The cosine similarity between the two vectors.\n",
    "    \"\"\"\n",
    "    return vec1.dot(vec2)\n",
    "\n",
    "\n",
    "doc_1 = 'I just discovered the course. Can I join now?'\n",
    "doc_2 = 'I just found out about the course. Is it too late to join?'\n",
    "\n",
    "embedding_1 = get_embedding(doc_1)\n",
    "embedding_2 = get_embedding(doc_2)\n",
    "\n",
    "similarity = cosine_similarity(embedding_1, embedding_2)\n",
    "\n",
    "print(f'Cosine similarity between the two documents: {similarity:.4f}')"
   ]
  },
  {
   "cell_type": "markdown",
   "id": "ff85f7e3",
   "metadata": {},
   "source": [
    "#### Q3. Ranking by Cosine"
   ]
  },
  {
   "cell_type": "code",
   "execution_count": null,
   "id": "53987ef7",
   "metadata": {},
   "outputs": [],
   "source": [
    "documents = [{'text': \"Yes, even if you don't register, you're still eligible to submit the homeworks.\\nBe aware, however, that there will be deadlines for turning in the final projects. So don't leave everything for the last minute.\",\n",
    "'section': 'General course-related questions',\n",
    "'question': 'Course - Can I still join the course after the start date?',\n",
    "'course': 'data-engineering-zoomcamp'},\n",
    "{'text': 'Yes, we will keep all the materials after the course finishes, so you can follow the course at your own pace after it finishes.\\nYou can also continue looking at the homeworks and continue preparing for the next cohort. I guess you can also start working on your final capstone project.',\n",
    "'section': 'General course-related questions',\n",
    "'question': 'Course - Can I follow the course after it finishes?',\n",
    "'course': 'data-engineering-zoomcamp'},\n",
    "{'text': \"The purpose of this document is to capture frequently asked technical questions\\nThe exact day and hour of the course will be 15th Jan 2024 at 17h00. The course will start with the first  “Office Hours'' live.1\\nSubscribe to course public Google Calendar (it works from Desktop only).\\nRegister before the course starts using this link.\\nJoin the course Telegram channel with announcements.\\nDon’t forget to register in DataTalks.Club's Slack and join the channel.\",\n",
    "'section': 'General course-related questions',\n",
    "'question': 'Course - When will the course start?',\n",
    "'course': 'data-engineering-zoomcamp'},\n",
    "{'text': 'You can start by installing and setting up all the dependencies and requirements:\\nGoogle cloud account\\nGoogle Cloud SDK\\nPython 3 (installed with Anaconda)\\nTerraform\\nGit\\nLook over the prerequisites and syllabus to see if you are comfortable with these subjects.',\n",
    "'section': 'General course-related questions',\n",
    "'question': 'Course - What can I do before the course starts?',\n",
    "'course': 'data-engineering-zoomcamp'},\n",
    "{'text': 'Star the repo! Share it with friends if you find it useful ❣️\\nCreate a PR if you see you can improve the text or the structure of the repository.',\n",
    "'section': 'General course-related questions',\n",
    "'question': 'How can we contribute to the course?',\n",
    "'course': 'data-engineering-zoomcamp'}]"
   ]
  },
  {
   "cell_type": "code",
   "execution_count": null,
   "id": "2c0ced96",
   "metadata": {},
   "outputs": [],
   "source": [
    "# Get the embedding for the query\n",
    "query = 'Can I still join the course after the start date?'\n",
    "\n",
    "q = get_embedding(query)"
   ]
  },
  {
   "cell_type": "code",
   "execution_count": 46,
   "id": "6ca5b3a7",
   "metadata": {},
   "outputs": [
    {
     "name": "stdout",
     "output_type": "stream",
     "text": [
      "Embedding shape: (5, 512)\n"
     ]
    }
   ],
   "source": [
    "# getting the cosine similarity for each document (only text)\n",
    "vector_embeddings = [get_embedding(doc['text']) for doc in documents]\n",
    "\n",
    "V = np.array(vector_embeddings)\n",
    "\n",
    "print(f'Embedding shape: {V.shape}')"
   ]
  },
  {
   "cell_type": "code",
   "execution_count": null,
   "id": "25cacd39",
   "metadata": {},
   "outputs": [
    {
     "name": "stdout",
     "output_type": "stream",
     "text": [
      "Top document index: 1\n"
     ]
    }
   ],
   "source": [
    "# Calculate the cosine similarity for each document with respect to the query\n",
    "doc_ranks = V.dot(q)\n",
    "\n",
    "# Get the index of the top document\n",
    "top_1 = np.argmax(doc_ranks)\n",
    "\n",
    "print(f'Top document index: {top_1}')"
   ]
  },
  {
   "cell_type": "markdown",
   "id": "65df95df",
   "metadata": {},
   "source": [
    "#### Q4. Ranking by cosine, version two"
   ]
  },
  {
   "cell_type": "code",
   "execution_count": null,
   "id": "340420ab",
   "metadata": {},
   "outputs": [],
   "source": [
    "full_texts = [] \n",
    "\n",
    "for doc in documents:\n",
    "    full_texts.append(doc['question'] + ' ' + doc['text'])"
   ]
  },
  {
   "cell_type": "code",
   "execution_count": 48,
   "id": "676a20ea",
   "metadata": {},
   "outputs": [
    {
     "data": {
      "text/plain": [
       "[\"Course - Can I still join the course after the start date? Yes, even if you don't register, you're still eligible to submit the homeworks.\\nBe aware, however, that there will be deadlines for turning in the final projects. So don't leave everything for the last minute.\",\n",
       " 'Course - Can I follow the course after it finishes? Yes, we will keep all the materials after the course finishes, so you can follow the course at your own pace after it finishes.\\nYou can also continue looking at the homeworks and continue preparing for the next cohort. I guess you can also start working on your final capstone project.',\n",
       " \"Course - When will the course start? The purpose of this document is to capture frequently asked technical questions\\nThe exact day and hour of the course will be 15th Jan 2024 at 17h00. The course will start with the first  “Office Hours'' live.1\\nSubscribe to course public Google Calendar (it works from Desktop only).\\nRegister before the course starts using this link.\\nJoin the course Telegram channel with announcements.\\nDon’t forget to register in DataTalks.Club's Slack and join the channel.\",\n",
       " 'Course - What can I do before the course starts? You can start by installing and setting up all the dependencies and requirements:\\nGoogle cloud account\\nGoogle Cloud SDK\\nPython 3 (installed with Anaconda)\\nTerraform\\nGit\\nLook over the prerequisites and syllabus to see if you are comfortable with these subjects.',\n",
       " 'How can we contribute to the course? Star the repo! Share it with friends if you find it useful ❣️\\nCreate a PR if you see you can improve the text or the structure of the repository.']"
      ]
     },
     "execution_count": 48,
     "metadata": {},
     "output_type": "execute_result"
    }
   ],
   "source": [
    "full_texts"
   ]
  },
  {
   "cell_type": "code",
   "execution_count": 49,
   "id": "5e858a98",
   "metadata": {},
   "outputs": [
    {
     "name": "stdout",
     "output_type": "stream",
     "text": [
      "Embedding shape: (5, 512)\n"
     ]
    }
   ],
   "source": [
    "vector_embeddings = [get_embedding(text) for text in full_texts]\n",
    "\n",
    "V = np.array(vector_embeddings)\n",
    "\n",
    "print(f'Embedding shape: {V.shape}')"
   ]
  },
  {
   "cell_type": "code",
   "execution_count": 53,
   "id": "96973006",
   "metadata": {},
   "outputs": [
    {
     "name": "stdout",
     "output_type": "stream",
     "text": [
      "Document ranks: [0.92732523 0.85948475 0.83966021 0.76320298 0.76044493]\n",
      "\n",
      "Top document index: 0\n"
     ]
    }
   ],
   "source": [
    "doc_ranks = V.dot(q)\n",
    "\n",
    "print(f'Document ranks: {doc_ranks}\\n')\n",
    "\n",
    "top_1 = np.argmax(doc_ranks)\n",
    "\n",
    "print(f'Top document index: {top_1}')"
   ]
  },
  {
   "cell_type": "markdown",
   "id": "38bbede1",
   "metadata": {},
   "source": [
    "#### Q5. Selecting the embedding model"
   ]
  },
  {
   "cell_type": "code",
   "execution_count": 62,
   "id": "8055cedd",
   "metadata": {},
   "outputs": [
    {
     "name": "stdout",
     "output_type": "stream",
     "text": [
      "{\n",
      "  \"BAAI/bge-small-en\": 384,\n",
      "  \"BAAI/bge-small-en-v1.5\": 384,\n",
      "  \"BAAI/bge-small-zh-v1.5\": 512,\n",
      "  \"snowflake/snowflake-arctic-embed-xs\": 384,\n",
      "  \"snowflake/snowflake-arctic-embed-s\": 384,\n",
      "  \"Qdrant/clip-ViT-B-32-text\": 512,\n",
      "  \"sentence-transformers/all-MiniLM-L6-v2\": 384,\n",
      "  \"jinaai/jina-embeddings-v2-small-en\": 512,\n",
      "  \"sentence-transformers/paraphrase-multilingual-MiniLM-L12-v2\": 384\n",
      "}\n"
     ]
    }
   ],
   "source": [
    "embedding_models = {}\n",
    "\n",
    "for model in TextEmbedding.list_supported_models():\n",
    "    # I want to find what is the smaller embedding dimension\n",
    "    # loop through all the models and find the one with the smallest dimension\n",
    "    if model['dim'] == 512:\n",
    "        embedding_models[model['model']] = model['dim']\n",
    "    if model['dim'] == 384:\n",
    "        embedding_models[model['model']] = model['dim']\n",
    "    if model['dim'] == 256:\n",
    "        embedding_models[model['model']] = model['dim']\n",
    "    if model['dim'] == 128:\n",
    "        embedding_models[model['model']] = model['dim']\n",
    "\n",
    "print(json.dumps(embedding_models, indent=2))"
   ]
  },
  {
   "cell_type": "markdown",
   "id": "1d0c02b1",
   "metadata": {},
   "source": [
    "384 is smaller dimensionality for model that are supported by `fastembed`"
   ]
  },
  {
   "cell_type": "markdown",
   "id": "7c56b4a2",
   "metadata": {},
   "source": [
    "#### Q6. Indexing with qdrant"
   ]
  },
  {
   "cell_type": "code",
   "execution_count": 9,
   "id": "c7e69925",
   "metadata": {},
   "outputs": [
    {
     "name": "stdout",
     "output_type": "stream",
     "text": [
      "Number of documents: 375\n"
     ]
    }
   ],
   "source": [
    "# Data preparation\n",
    "with open('../documents.json', 'r') as f:\n",
    "    documents_raw = json.load(f)\n",
    "\n",
    "documents = []\n",
    "\n",
    "for course in documents_raw: \n",
    "    course_name = course['course'] \n",
    "    if course_name != 'machine-learning-zoomcamp':\n",
    "        continue\n",
    "\n",
    "    for doc in course['documents']:\n",
    "        doc['course'] = course_name\n",
    "        documents.append(doc)\n",
    "\n",
    "print(f'Number of documents: {len(documents)}')"
   ]
  },
  {
   "cell_type": "code",
   "execution_count": 2,
   "id": "5a100c77",
   "metadata": {},
   "outputs": [],
   "source": [
    "# Initialize Qdrant client\n",
    "client = QdrantClient(url=\"http://localhost:6333\") "
   ]
  },
  {
   "cell_type": "code",
   "execution_count": 11,
   "id": "85059a63",
   "metadata": {},
   "outputs": [],
   "source": [
    "# Model Configuration\n",
    "EMBEDDING_MODEL = \"BAAI/bge-small-en\"\n",
    "\n",
    "EMBEDDING_DIM = 384"
   ]
  },
  {
   "cell_type": "code",
   "execution_count": 12,
   "id": "0c17fd0d",
   "metadata": {},
   "outputs": [
    {
     "data": {
      "text/plain": [
       "True"
      ]
     },
     "execution_count": 12,
     "metadata": {},
     "output_type": "execute_result"
    }
   ],
   "source": [
    "# collection name \n",
    "collection_name = \"ml-zoomcamp-faq\"\n",
    "\n",
    "# Create the collection with specified vector parameters\n",
    "client.create_collection(\n",
    "    collection_name=collection_name,\n",
    "    vectors_config=models.VectorParams(\n",
    "        size=EMBEDDING_DIM,  # Dimensionality of the vectors\n",
    "        distance=models.Distance.COSINE  # Distance metric for similarity search\n",
    "    )\n",
    ")"
   ]
  },
  {
   "cell_type": "code",
   "execution_count": 14,
   "id": "718c7c53",
   "metadata": {},
   "outputs": [],
   "source": [
    "# Creating Points to be inserted into the collection\n",
    "points = []\n",
    "\n",
    "for i, doc in enumerate(documents):\n",
    "    # concatenate question and text for the full content\n",
    "    text = doc['question'] + ' ' + doc['text']\n",
    "    vector = models.Document(text=text, model=EMBEDDING_MODEL)\n",
    "    point = models.PointStruct(\n",
    "        id=i,\n",
    "        vector=vector,\n",
    "        payload=doc\n",
    "    )\n",
    "    points.append(point)"
   ]
  },
  {
   "cell_type": "code",
   "execution_count": 16,
   "id": "f40d9116",
   "metadata": {},
   "outputs": [
    {
     "data": {
      "text/plain": [
       "[PointStruct(id=0, vector=Document(text='How do I sign up? Machine Learning Zoomcamp FAQ\\nThe purpose of this document is to capture frequently asked technical questions.\\nWe did this for our data engineering course and it worked quite well. Check this document for inspiration on how to structure your questions and answers:\\nData Engineering Zoomcamp FAQ\\nIn the course GitHub repository there’s a link. Here it is: https://airtable.com/shryxwLd0COOEaqXo\\nwork', model='BAAI/bge-small-en', options=None), payload={'text': 'Machine Learning Zoomcamp FAQ\\nThe purpose of this document is to capture frequently asked technical questions.\\nWe did this for our data engineering course and it worked quite well. Check this document for inspiration on how to structure your questions and answers:\\nData Engineering Zoomcamp FAQ\\nIn the course GitHub repository there’s a link. Here it is: https://airtable.com/shryxwLd0COOEaqXo\\nwork', 'section': 'General course-related questions', 'question': 'How do I sign up?', 'course': 'machine-learning-zoomcamp'}),\n",
       " PointStruct(id=1, vector=Document(text='Is it going to be live? When? The course videos are pre-recorded, you can start watching the course right now.\\nWe will also occasionally have office hours - live sessions where we will answer your questions. The office hours sessions are recorded too.\\nYou can see the office hours as well as the pre-recorded course videos in the course playlist on YouTube.', model='BAAI/bge-small-en', options=None), payload={'text': 'The course videos are pre-recorded, you can start watching the course right now.\\nWe will also occasionally have office hours - live sessions where we will answer your questions. The office hours sessions are recorded too.\\nYou can see the office hours as well as the pre-recorded course videos in the course playlist on YouTube.', 'section': 'General course-related questions', 'question': 'Is it going to be live? When?', 'course': 'machine-learning-zoomcamp'}),\n",
       " PointStruct(id=2, vector=Document(text='What if I miss a session? Everything is recorded, so you won’t miss anything. You will be able to ask your questions for office hours in advance and we will cover them during the live stream. Also, you can always ask questions in Slack.', model='BAAI/bge-small-en', options=None), payload={'text': 'Everything is recorded, so you won’t miss anything. You will be able to ask your questions for office hours in advance and we will cover them during the live stream. Also, you can always ask questions in Slack.', 'section': 'General course-related questions', 'question': 'What if I miss a session?', 'course': 'machine-learning-zoomcamp'}),\n",
       " PointStruct(id=3, vector=Document(text=\"How much theory will you cover? The bare minimum. The focus is more on practice, and we'll cover the theory only on the intuitive level.: https://mlbookcamp.com/article/python\\nFor example, we won't derive the gradient update rule for logistic regression (there are other great courses for that), but we'll cover how to use logistic regression and make sense of the results.\", model='BAAI/bge-small-en', options=None), payload={'text': \"The bare minimum. The focus is more on practice, and we'll cover the theory only on the intuitive level.: https://mlbookcamp.com/article/python\\nFor example, we won't derive the gradient update rule for logistic regression (there are other great courses for that), but we'll cover how to use logistic regression and make sense of the results.\", 'section': 'General course-related questions', 'question': 'How much theory will you cover?', 'course': 'machine-learning-zoomcamp'}),\n",
       " PointStruct(id=4, vector=Document(text=\"I don't know math. Can I take the course? Yes! We'll cover some linear algebra in the course, but in general, there will be very few formulas, mostly code.\\nHere are some interesting videos covering linear algebra that you can already watch: ML Zoomcamp 1.8 - Linear Algebra Refresher from Alexey Grigorev or the excellent playlist from 3Blue1Brown Vectors | Chapter 1, Essence of linear algebra. Never hesitate to ask the community for help if you have any question.\\n(Mélanie Fouesnard)\", model='BAAI/bge-small-en', options=None), payload={'text': \"Yes! We'll cover some linear algebra in the course, but in general, there will be very few formulas, mostly code.\\nHere are some interesting videos covering linear algebra that you can already watch: ML Zoomcamp 1.8 - Linear Algebra Refresher from Alexey Grigorev or the excellent playlist from 3Blue1Brown Vectors | Chapter 1, Essence of linear algebra. Never hesitate to ask the community for help if you have any question.\\n(Mélanie Fouesnard)\", 'section': 'General course-related questions', 'question': \"I don't know math. Can I take the course?\", 'course': 'machine-learning-zoomcamp'})]"
      ]
     },
     "execution_count": 16,
     "metadata": {},
     "output_type": "execute_result"
    }
   ],
   "source": [
    "points[:5]"
   ]
  },
  {
   "cell_type": "code",
   "execution_count": 22,
   "id": "d19cdc30",
   "metadata": {},
   "outputs": [
    {
     "name": "stderr",
     "output_type": "stream",
     "text": [
      "Fetching 5 files:  20%|██        | 1/5 [00:00<00:00,  5.71it/s]p:\\Projects\\LLM-ZoomCamp\\.venv\\lib\\site-packages\\huggingface_hub\\file_download.py:143: UserWarning: `huggingface_hub` cache-system uses symlinks by default to efficiently store duplicated files but your machine does not support them in C:\\Users\\Karthik\\AppData\\Local\\Temp\\fastembed_cache\\models--Qdrant--bge-small-en. Caching files will still work but in a degraded version that might require more space on your disk. This warning can be disabled by setting the `HF_HUB_DISABLE_SYMLINKS_WARNING` environment variable. For more details, see https://huggingface.co/docs/huggingface_hub/how-to-cache#limitations.\n",
      "To support symlinks on Windows, you either need to activate Developer Mode or to run Python as an administrator. In order to activate developer mode, see this article: https://docs.microsoft.com/en-us/windows/apps/get-started/enable-your-device-for-development\n",
      "  warnings.warn(message)\n",
      "Fetching 5 files: 100%|██████████| 5/5 [00:08<00:00,  1.70s/it]\n"
     ]
    },
    {
     "data": {
      "text/plain": [
       "UpdateResult(operation_id=0, status=<UpdateStatus.COMPLETED: 'completed'>)"
      ]
     },
     "execution_count": 22,
     "metadata": {},
     "output_type": "execute_result"
    }
   ],
   "source": [
    "# Upserting the points into the collection\n",
    "client.upsert(\n",
    "    collection_name=collection_name,\n",
    "    points=points\n",
    ")"
   ]
  },
  {
   "cell_type": "code",
   "execution_count": 23,
   "id": "3cf925f2",
   "metadata": {},
   "outputs": [],
   "source": [
    "query = \"I just discovered the course. Can I join now?\""
   ]
  },
  {
   "cell_type": "code",
   "execution_count": 25,
   "id": "bdf74803",
   "metadata": {},
   "outputs": [
    {
     "data": {
      "text/plain": [
       "[ScoredPoint(id=14, version=0, score=0.8703172, payload={'text': 'Yes, you can. You won’t be able to submit some of the homeworks, but you can still take part in the course.\\nIn order to get a certificate, you need to submit 2 out of 3 course projects and review 3 peers’ Projects by the deadline. It means that if you join the course at the end of November and manage to work on two projects, you will still be eligible for a certificate.', 'section': 'General course-related questions', 'question': 'The course has already started. Can I still join it?', 'course': 'machine-learning-zoomcamp'}, vector=None, shard_key=None, order_value=None),\n",
       " ScoredPoint(id=6, version=0, score=0.86918855, payload={'text': 'Approximately 4 months, but may take more if you want to do some extra activities (an extra project, an article, etc)', 'section': 'General course-related questions', 'question': 'How long is the course?', 'course': 'machine-learning-zoomcamp'}, vector=None, shard_key=None, order_value=None),\n",
       " ScoredPoint(id=13, version=0, score=0.86833113, payload={'text': \"Here’s how you join a in Slack: https://slack.com/help/articles/205239967-Join-a-channel\\nClick “All channels” at the top of your left sidebar. If you don't see this option, click “More” to find it.\\nBrowse the list of public channels in your workspace, or use the search bar to search by channel name or description.\\nSelect a channel from the list to view it.\\nClick Join Channel.\\nDo we need to provide the GitHub link to only our code corresponding to the homework questions?\\nYes. You are required to provide the URL to your repo in order to receive a grade\", 'section': 'General course-related questions', 'question': 'I’m new to Slack and can’t find the course channel. Where is it?', 'course': 'machine-learning-zoomcamp'}, vector=None, shard_key=None, order_value=None),\n",
       " ScoredPoint(id=293, version=0, score=0.8576106, payload={'text': 'TODO', 'section': '10. Kubernetes and TensorFlow Serving', 'question': 'How to get started with Week 10?', 'course': 'machine-learning-zoomcamp'}, vector=None, shard_key=None, order_value=None),\n",
       " ScoredPoint(id=17, version=0, score=0.85715395, payload={'text': 'Welcome to the course! Go to the course page (http://mlzoomcamp.com/), scroll down and start going through the course materials. Then read everything in the cohort folder for your cohort’s year.\\nClick on the links and start watching the videos. Also watch office hours from previous cohorts. Go to DTC youtube channel and click on Playlists and search for {course yyyy}. ML Zoomcamp was first launched in 2021.\\nOr you can just use this link: http://mlzoomcamp.com/#syllabus', 'section': 'General course-related questions', 'question': 'I just joined. What should I do next? How can I access course materials?', 'course': 'machine-learning-zoomcamp'}, vector=None, shard_key=None, order_value=None)]"
      ]
     },
     "execution_count": 25,
     "metadata": {},
     "output_type": "execute_result"
    }
   ],
   "source": [
    "search_results = client.query_points(\n",
    "    collection_name=collection_name,\n",
    "    query=models.Document(\n",
    "        text=query,\n",
    "        model=EMBEDDING_MODEL\n",
    "    ),\n",
    "    limit=5,\n",
    "    with_payload=True,\n",
    ")\n",
    "\n",
    "search_results.points"
   ]
  }
 ],
 "metadata": {
  "kernelspec": {
   "display_name": ".venv",
   "language": "python",
   "name": "python3"
  },
  "language_info": {
   "codemirror_mode": {
    "name": "ipython",
    "version": 3
   },
   "file_extension": ".py",
   "mimetype": "text/x-python",
   "name": "python",
   "nbconvert_exporter": "python",
   "pygments_lexer": "ipython3",
   "version": "3.10.18"
  }
 },
 "nbformat": 4,
 "nbformat_minor": 5
}
