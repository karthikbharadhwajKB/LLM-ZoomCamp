{
 "cells": [
  {
   "cell_type": "markdown",
   "id": "3fc2a332",
   "metadata": {},
   "source": [
    "### Workshop: DLT Homework"
   ]
  },
  {
   "cell_type": "markdown",
   "id": "892b3a82",
   "metadata": {},
   "source": [
    "### Question-1. dlt version"
   ]
  },
  {
   "cell_type": "code",
   "execution_count": null,
   "id": "860454c1",
   "metadata": {},
   "outputs": [],
   "source": [
    "!pip install -q \"dlt[qdrant]\" \"qdrant-client[fastembed]\""
   ]
  },
  {
   "cell_type": "code",
   "execution_count": 2,
   "id": "1b14e914",
   "metadata": {},
   "outputs": [
    {
     "name": "stdout",
     "output_type": "stream",
     "text": [
      "dlt==1.13.0\n"
     ]
    }
   ],
   "source": [
    "!pip freeze | findstr dlt"
   ]
  },
  {
   "cell_type": "code",
   "execution_count": 3,
   "id": "8edb1682",
   "metadata": {},
   "outputs": [
    {
     "name": "stdout",
     "output_type": "stream",
     "text": [
      "1.13.0\n"
     ]
    }
   ],
   "source": [
    "import dlt \n",
    "\n",
    "print(dlt.__version__)"
   ]
  },
  {
   "cell_type": "markdown",
   "id": "39809c6f",
   "metadata": {},
   "source": [
    "This is `1.13.0` the version of dlt that was installed!"
   ]
  },
  {
   "cell_type": "markdown",
   "id": "c951054b",
   "metadata": {},
   "source": [
    "### Question 2. dlt pipeline"
   ]
  },
  {
   "cell_type": "markdown",
   "id": "4903e17d",
   "metadata": {},
   "source": [
    "#### dlt resource\n",
    "\n",
    "For reading the FAQ data, we have this helper function."
   ]
  },
  {
   "cell_type": "code",
   "execution_count": 4,
   "id": "f71e3a9d",
   "metadata": {},
   "outputs": [],
   "source": [
    "import requests\n",
    "import dlt\n",
    "\n",
    "@dlt.resource\n",
    "def zoomcamp_data():\n",
    "    docs_url = 'https://github.com/alexeygrigorev/llm-rag-workshop/raw/main/notebooks/documents.json'\n",
    "    docs_response = requests.get(docs_url)\n",
    "    documents_raw = docs_response.json()\n",
    "\n",
    "    for course in documents_raw:\n",
    "        course_name = course['course']\n",
    "\n",
    "        for doc in course['documents']:\n",
    "            doc['course'] = course_name\n",
    "            yield doc"
   ]
  },
  {
   "cell_type": "markdown",
   "id": "8b37c704",
   "metadata": {},
   "source": [
    "dlt pipeline \n",
    "\n",
    "Let's create pipeline. \n",
    "\n",
    "We need to define a destination for that. Let's use the `qdrant` one."
   ]
  },
  {
   "cell_type": "code",
   "execution_count": 5,
   "id": "faf68744",
   "metadata": {},
   "outputs": [],
   "source": [
    "# destination \n",
    "from dlt.destinations import qdrant\n",
    "\n",
    "qdrant_destination = qdrant(\n",
    "  qd_path=\"db.qdrant\", \n",
    ")"
   ]
  },
  {
   "cell_type": "markdown",
   "id": "aa296fd6",
   "metadata": {},
   "source": [
    "In this case, we tell `dlt` and Qdrant to create a folder with our data, and the name for it will be `db.qdrant`"
   ]
  },
  {
   "cell_type": "markdown",
   "id": "32421930",
   "metadata": {},
   "source": [
    "Let's run it:"
   ]
  },
  {
   "cell_type": "code",
   "execution_count": 7,
   "id": "b7f7a8d8",
   "metadata": {},
   "outputs": [
    {
     "name": "stderr",
     "output_type": "stream",
     "text": [
      "p:\\Projects\\LLM-ZoomCamp\\.venv\\lib\\site-packages\\tqdm\\auto.py:21: TqdmWarning: IProgress not found. Please update jupyter and ipywidgets. See https://ipywidgets.readthedocs.io/en/stable/user_install.html\n",
      "  from .autonotebook import tqdm as notebook_tqdm\n",
      "Fetching 5 files:   0%|          | 0/5 [00:00<?, ?it/s]p:\\Projects\\LLM-ZoomCamp\\.venv\\lib\\site-packages\\huggingface_hub\\file_download.py:143: UserWarning: `huggingface_hub` cache-system uses symlinks by default to efficiently store duplicated files but your machine does not support them in C:\\Users\\Karthik\\AppData\\Local\\Temp\\fastembed_cache\\models--Qdrant--bge-small-en. Caching files will still work but in a degraded version that might require more space on your disk. This warning can be disabled by setting the `HF_HUB_DISABLE_SYMLINKS_WARNING` environment variable. For more details, see https://huggingface.co/docs/huggingface_hub/how-to-cache#limitations.\n",
      "To support symlinks on Windows, you either need to activate Developer Mode or to run Python as an administrator. In order to activate developer mode, see this article: https://docs.microsoft.com/en-us/windows/apps/get-started/enable-your-device-for-development\n",
      "  warnings.warn(message)\n",
      "Fetching 5 files: 100%|██████████| 5/5 [00:05<00:00,  1.10s/it]\n"
     ]
    },
    {
     "name": "stdout",
     "output_type": "stream",
     "text": [
      "Run started at 2025-07-11 10:21:31.197235+00:00 and COMPLETED in 21.28 seconds with 4 steps.\n",
      "Step extract COMPLETED in 0.99 seconds.\n",
      "\n",
      "Load package 1752229300.66538 is EXTRACTED and NOT YET LOADED to the destination and contains no failed jobs\n",
      "\n",
      "Step normalize COMPLETED in 0.23 seconds.\n",
      "Normalized data for the following tables:\n",
      "- zoomcamp_data: 948 row(s)\n",
      "- _dlt_pipeline_state: 1 row(s)\n",
      "\n",
      "Load package 1752229300.66538 is NORMALIZED and NOT YET LOADED to the destination and contains no failed jobs\n",
      "\n",
      "Step load COMPLETED in 10.62 seconds.\n",
      "Pipeline zoomcamp_pipeline load step completed in 10.58 seconds\n",
      "1 load package(s) were loaded to destination qdrant and into dataset zoomcamp_tagged_data\n",
      "The qdrant destination used p:\\Projects\\LLM-ZoomCamp\\workshops\\dlt\\db.qdrant location to store data\n",
      "Load package 1752229300.66538 is LOADED and contains no failed jobs\n",
      "\n",
      "Step run COMPLETED in 21.28 seconds.\n",
      "Pipeline zoomcamp_pipeline load step completed in 10.58 seconds\n",
      "1 load package(s) were loaded to destination qdrant and into dataset zoomcamp_tagged_data\n",
      "The qdrant destination used p:\\Projects\\LLM-ZoomCamp\\workshops\\dlt\\db.qdrant location to store data\n",
      "Load package 1752229300.66538 is LOADED and contains no failed jobs\n"
     ]
    }
   ],
   "source": [
    "# pipeline \n",
    "pipeline = dlt.pipeline(\n",
    "    pipeline_name=\"zoomcamp_pipeline\",\n",
    "    destination=qdrant_destination,\n",
    "    dataset_name=\"zoomcamp_tagged_data\"\n",
    ")\n",
    "\n",
    "load_info = pipeline.run(zoomcamp_data())\n",
    "\n",
    "print(pipeline.last_trace)"
   ]
  },
  {
   "cell_type": "markdown",
   "id": "24b2e9cd",
   "metadata": {},
   "source": [
    "948 rows were inserted into the `zoomcamp_data` collection."
   ]
  },
  {
   "cell_type": "markdown",
   "id": "c69f0d05",
   "metadata": {},
   "source": [
    "### Question 3. Embedding"
   ]
  },
  {
   "cell_type": "markdown",
   "id": "e5c61f44",
   "metadata": {},
   "source": [
    "In `meta.json` file, we see that dlt used this embedding model: `fast-bge-small-en`. This model's dimensionality is 384"
   ]
  }
 ],
 "metadata": {
  "kernelspec": {
   "display_name": ".venv",
   "language": "python",
   "name": "python3"
  },
  "language_info": {
   "codemirror_mode": {
    "name": "ipython",
    "version": 3
   },
   "file_extension": ".py",
   "mimetype": "text/x-python",
   "name": "python",
   "nbconvert_exporter": "python",
   "pygments_lexer": "ipython3",
   "version": "3.10.18"
  }
 },
 "nbformat": 4,
 "nbformat_minor": 5
}
